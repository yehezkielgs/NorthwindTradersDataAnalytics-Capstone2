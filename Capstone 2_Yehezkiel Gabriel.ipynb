{
  "cells": [
    {
      "cell_type": "markdown",
      "metadata": {
        "id": "dNpsGrzVDSrO"
      },
      "source": [
        "# **DATA UNDERSTANDING**"
      ]
    },
    {
      "cell_type": "markdown",
      "metadata": {
        "id": "r2tXCQEvDSrR"
      },
      "source": [
        "## **Context**\n",
        "\n",
        "**```Bagaimana Konteks bisnis berdasarkan data yang diberikan?```**\n",
        "\n",
        "Sebuah perusahaan bernama \"Northwind Traders\" yang melakukan bisnis impor dan ekspor makanan khusus dari seluruh dunia. Terdapat sebuah database yang menunjukan detail dari proses transaksi. Dari database tersebut, perusahaan ingin bisa mendapatkan insight yang dapat dijalankan, sehingga nantinya mereka dapat melakukan penerapan strategi yang tepat sasaran untuk memperoleh keuntungan yang lebih dari saat ini.\n",
        "\n",
        "## **Database Information**\n",
        "**```Ada berapa banyak tabel yang disediakan oleh database yang tersedia?```**\n",
        "\n",
        "Sumber Database: https://downloads.alphasoftware.com/a5v12Download/northwindmysql.zip\n",
        "\n",
        "Database yang dimiliki mempunyai 8 tabel, yaitu:\n",
        "- Categories    : Menyimpan informasi tentang kategori dan sub-kategori jenis produk.\n",
        "- Customers     : Menyimpan informasi tentang data pelanggan/customer.\n",
        "- Employees     : Menyimpan semua informasi karyawan.\n",
        "- Orders        : Menyimpan informasi jual-beli yang dilakukan oleh pelanggan.\n",
        "- OrderDetails  : Menyimpan detail dari setiap pesanan yang dilakukan oleh pelanggan.\n",
        "- Products      : Menyimpan informasi tentang jenis produk.\n",
        "- Shippers      : Menyimpan informasi jasa pengiriman produk.\n",
        "- Suppliers     : Menyimpan informasi supplier barang.\n",
        "\n",
        "Setiap tabel yang tertera pada database dapat terhubung, baik secara langsung maupun tidak langsung, sehingga setiap informasi dari database ini akan dapat saling berkaitan."
      ]
    },
    {
      "cell_type": "markdown",
      "metadata": {
        "id": "iopL7ef6DSrT"
      },
      "source": [
        "# **DATABASE**"
      ]
    },
    {
      "cell_type": "markdown",
      "metadata": {
        "id": "VwdeQ5ewDSrT"
      },
      "source": [
        "## **Connecting To Database**\n",
        "\n",
        "Bagian ini merupakan langkah awal untuk mulai melakukan proses analisis data. Pertama adalah membuat koneksi ke database di mana seperti yang sudah dijelaskan sebelumnya, database yang akan digunakan adalah database ``northwind``. Dengan melakukan koneksi ini, kita dapat mengakses seluruh tabel yang ada pada database.\n"
      ]
    },
    {
      "cell_type": "code",
      "execution_count": 1,
      "metadata": {
        "id": "zLkAYcdNDSrT"
      },
      "outputs": [],
      "source": [
        "# Import Modules\n",
        "\n",
        "import pandas as pd\n",
        "import numpy as np\n",
        "import mysql.connector as sqlcon"
      ]
    },
    {
      "cell_type": "code",
      "execution_count": 2,
      "metadata": {
        "id": "BUbP4QruDSrU"
      },
      "outputs": [],
      "source": [
        "# Connect To Database\n",
        "\n",
        "mydb = sqlcon.connect(\n",
        "    host = 'localhost',\n",
        "    user = 'root',\n",
        "    passwd = '12345',\n",
        "    database = 'northwind'\n",
        ")"
      ]
    },
    {
      "cell_type": "markdown",
      "metadata": {
        "id": "FQReO7c6DSrV"
      },
      "source": [
        "Selain melakukan koneksi ke database, hal lain yang perlu dilakukan pada bagian awal ini adalah membuat sebuah fungsi untuk menuliskan ``query`` yang kemudian akan disimpan dalam bentuk DataFrame. Tujuannya adalah agar data hasil ``query`` yang dibuat dapat disimpan dan digunakan untuk keperluan analisis data."
      ]
    },
    {
      "cell_type": "code",
      "execution_count": 3,
      "metadata": {
        "id": "FM5c0QQKDSrW"
      },
      "outputs": [],
      "source": [
        "# Query Function\n",
        "\n",
        "curs = mydb.cursor()\n",
        "\n",
        "def sql_table (query) :\n",
        "    curs.execute (query)\n",
        "    result = curs.fetchall()\n",
        "    tabel1 = pd.DataFrame(result, columns=curs.column_names)\n",
        "    return tabel1"
      ]
    },
    {
      "cell_type": "markdown",
      "metadata": {
        "id": "hxIwxuVCDSrW"
      },
      "source": [
        "## **Data Detail & Jumlah Transaksi**\n",
        "\n",
        "**```Apakah tabel customers, orders, ordersdetail, dan products dapat digabungkan menjadi 1 tabel?```**\n",
        "\n",
        "Data pertama ini merupakan data utama yang nantinya akan dianalisa lebih lanjut. Data ini merupakan gabungan dari 4 tabel, yaitu tabel ```Costumer```, ```Orders```, ```OrderDetails```, dan ```Products```. Masing-masing dari setiap tabel tersebut diambil beberapa kolomnya dan tidak diambil secara keseluruhan. Informasi-informasi yang dianggap penting saja lah yang diambil. Informasi yang diambil antara lain adalah :\n",
        "- customerID dari tabel customers\n",
        "- companyName dari tabel customers\n",
        "- ContactTitle dari tabel customers\n",
        "- city dari tabel customers\n",
        "- country dari tabel customers\n",
        "- orderID dari tabel orders\n",
        "- orderDate dari tabel orders\n",
        "- requiredDate dari tabel orders\n",
        "- shippedDate dari tabel orders\n",
        "- shipVia dari tabel orders\n",
        "- shipCity dari tabel orders\n",
        "- shipCountry dari tabel orders\n",
        "- quantity dari tabel orderdetails\n",
        "- unitPrice dari tabel orderdetails\n",
        "- discount dari tabel orderdetails\n",
        "- productName dari tabel products\n",
        "\n",
        "Semua informasi tersebut kemudian dijadikan dalam sebuah DataFrame yang nantinya akan diolah informasinya."
      ]
    },
    {
      "cell_type": "code",
      "execution_count": 4,
      "metadata": {
        "id": "cLWaj3Q7DSrX",
        "outputId": "b0c73c90-2fd4-44c1-a045-e94275a48e35"
      },
      "outputs": [
        {
          "data": {
            "text/html": [
              "<div>\n",
              "<style scoped>\n",
              "    .dataframe tbody tr th:only-of-type {\n",
              "        vertical-align: middle;\n",
              "    }\n",
              "\n",
              "    .dataframe tbody tr th {\n",
              "        vertical-align: top;\n",
              "    }\n",
              "\n",
              "    .dataframe thead th {\n",
              "        text-align: right;\n",
              "    }\n",
              "</style>\n",
              "<table border=\"1\" class=\"dataframe\">\n",
              "  <thead>\n",
              "    <tr style=\"text-align: right;\">\n",
              "      <th></th>\n",
              "      <th>CustomerID</th>\n",
              "      <th>CompanyName</th>\n",
              "      <th>ContactTitle</th>\n",
              "      <th>City</th>\n",
              "      <th>Country</th>\n",
              "      <th>orderID</th>\n",
              "      <th>OrderDate</th>\n",
              "      <th>RequiredDate</th>\n",
              "      <th>ShippedDate</th>\n",
              "      <th>shipVia</th>\n",
              "      <th>ShipCity</th>\n",
              "      <th>ShipCountry</th>\n",
              "      <th>Quantity</th>\n",
              "      <th>UnitPrice</th>\n",
              "      <th>Discount</th>\n",
              "      <th>ProductName</th>\n",
              "    </tr>\n",
              "  </thead>\n",
              "  <tbody>\n",
              "    <tr>\n",
              "      <th>0</th>\n",
              "      <td>ALFKI</td>\n",
              "      <td>Alfreds Futterkiste</td>\n",
              "      <td>Sales Representative</td>\n",
              "      <td>Berlin</td>\n",
              "      <td>Germany</td>\n",
              "      <td>10643.0</td>\n",
              "      <td>1995-09-25</td>\n",
              "      <td>1995-10-23</td>\n",
              "      <td>1995-10-03</td>\n",
              "      <td>Speedy Express</td>\n",
              "      <td>Berlin</td>\n",
              "      <td>Germany</td>\n",
              "      <td>15.0</td>\n",
              "      <td>45.6000</td>\n",
              "      <td>0.25</td>\n",
              "      <td>R├Âssle Sauerkraut</td>\n",
              "    </tr>\n",
              "    <tr>\n",
              "      <th>1</th>\n",
              "      <td>ALFKI</td>\n",
              "      <td>Alfreds Futterkiste</td>\n",
              "      <td>Sales Representative</td>\n",
              "      <td>Berlin</td>\n",
              "      <td>Germany</td>\n",
              "      <td>10643.0</td>\n",
              "      <td>1995-09-25</td>\n",
              "      <td>1995-10-23</td>\n",
              "      <td>1995-10-03</td>\n",
              "      <td>Speedy Express</td>\n",
              "      <td>Berlin</td>\n",
              "      <td>Germany</td>\n",
              "      <td>21.0</td>\n",
              "      <td>18.0000</td>\n",
              "      <td>0.25</td>\n",
              "      <td>Chartreuse verte</td>\n",
              "    </tr>\n",
              "    <tr>\n",
              "      <th>2</th>\n",
              "      <td>ALFKI</td>\n",
              "      <td>Alfreds Futterkiste</td>\n",
              "      <td>Sales Representative</td>\n",
              "      <td>Berlin</td>\n",
              "      <td>Germany</td>\n",
              "      <td>10643.0</td>\n",
              "      <td>1995-09-25</td>\n",
              "      <td>1995-10-23</td>\n",
              "      <td>1995-10-03</td>\n",
              "      <td>Speedy Express</td>\n",
              "      <td>Berlin</td>\n",
              "      <td>Germany</td>\n",
              "      <td>2.0</td>\n",
              "      <td>12.0000</td>\n",
              "      <td>0.25</td>\n",
              "      <td>Spegesild</td>\n",
              "    </tr>\n",
              "    <tr>\n",
              "      <th>3</th>\n",
              "      <td>ALFKI</td>\n",
              "      <td>Alfreds Futterkiste</td>\n",
              "      <td>Sales Representative</td>\n",
              "      <td>Berlin</td>\n",
              "      <td>Germany</td>\n",
              "      <td>10692.0</td>\n",
              "      <td>1995-11-03</td>\n",
              "      <td>1995-12-01</td>\n",
              "      <td>1995-11-13</td>\n",
              "      <td>United Package</td>\n",
              "      <td>Berlin</td>\n",
              "      <td>Germany</td>\n",
              "      <td>20.0</td>\n",
              "      <td>43.9000</td>\n",
              "      <td>0.00</td>\n",
              "      <td>Vegie-spread</td>\n",
              "    </tr>\n",
              "    <tr>\n",
              "      <th>4</th>\n",
              "      <td>ALFKI</td>\n",
              "      <td>Alfreds Futterkiste</td>\n",
              "      <td>Sales Representative</td>\n",
              "      <td>Berlin</td>\n",
              "      <td>Germany</td>\n",
              "      <td>10702.0</td>\n",
              "      <td>1995-11-13</td>\n",
              "      <td>1995-12-25</td>\n",
              "      <td>1995-11-21</td>\n",
              "      <td>Speedy Express</td>\n",
              "      <td>Berlin</td>\n",
              "      <td>Germany</td>\n",
              "      <td>6.0</td>\n",
              "      <td>10.0000</td>\n",
              "      <td>0.00</td>\n",
              "      <td>Aniseed Syrup</td>\n",
              "    </tr>\n",
              "    <tr>\n",
              "      <th>...</th>\n",
              "      <td>...</td>\n",
              "      <td>...</td>\n",
              "      <td>...</td>\n",
              "      <td>...</td>\n",
              "      <td>...</td>\n",
              "      <td>...</td>\n",
              "      <td>...</td>\n",
              "      <td>...</td>\n",
              "      <td>...</td>\n",
              "      <td>...</td>\n",
              "      <td>...</td>\n",
              "      <td>...</td>\n",
              "      <td>...</td>\n",
              "      <td>...</td>\n",
              "      <td>...</td>\n",
              "      <td>...</td>\n",
              "    </tr>\n",
              "    <tr>\n",
              "      <th>2152</th>\n",
              "      <td>WOLZA</td>\n",
              "      <td>Wolski  Zajazd</td>\n",
              "      <td>Owner</td>\n",
              "      <td>Warszawa</td>\n",
              "      <td>Poland</td>\n",
              "      <td>10998.0</td>\n",
              "      <td>1996-05-03</td>\n",
              "      <td>1996-05-17</td>\n",
              "      <td>1996-05-17</td>\n",
              "      <td>United Package</td>\n",
              "      <td>Warszawa</td>\n",
              "      <td>Poland</td>\n",
              "      <td>12.0</td>\n",
              "      <td>4.5000</td>\n",
              "      <td>0.00</td>\n",
              "      <td>Guaran├í Fant├ística</td>\n",
              "    </tr>\n",
              "    <tr>\n",
              "      <th>2153</th>\n",
              "      <td>WOLZA</td>\n",
              "      <td>Wolski  Zajazd</td>\n",
              "      <td>Owner</td>\n",
              "      <td>Warszawa</td>\n",
              "      <td>Poland</td>\n",
              "      <td>10998.0</td>\n",
              "      <td>1996-05-03</td>\n",
              "      <td>1996-05-17</td>\n",
              "      <td>1996-05-17</td>\n",
              "      <td>United Package</td>\n",
              "      <td>Warszawa</td>\n",
              "      <td>Poland</td>\n",
              "      <td>7.0</td>\n",
              "      <td>28.5000</td>\n",
              "      <td>0.00</td>\n",
              "      <td>Sirop d'├®rable</td>\n",
              "    </tr>\n",
              "    <tr>\n",
              "      <th>2154</th>\n",
              "      <td>WOLZA</td>\n",
              "      <td>Wolski  Zajazd</td>\n",
              "      <td>Owner</td>\n",
              "      <td>Warszawa</td>\n",
              "      <td>Poland</td>\n",
              "      <td>10998.0</td>\n",
              "      <td>1996-05-03</td>\n",
              "      <td>1996-05-17</td>\n",
              "      <td>1996-05-17</td>\n",
              "      <td>United Package</td>\n",
              "      <td>Warszawa</td>\n",
              "      <td>Poland</td>\n",
              "      <td>20.0</td>\n",
              "      <td>10.0000</td>\n",
              "      <td>0.00</td>\n",
              "      <td>Longlife Tofu</td>\n",
              "    </tr>\n",
              "    <tr>\n",
              "      <th>2155</th>\n",
              "      <td>WOLZA</td>\n",
              "      <td>Wolski  Zajazd</td>\n",
              "      <td>Owner</td>\n",
              "      <td>Warszawa</td>\n",
              "      <td>Poland</td>\n",
              "      <td>10998.0</td>\n",
              "      <td>1996-05-03</td>\n",
              "      <td>1996-05-17</td>\n",
              "      <td>1996-05-17</td>\n",
              "      <td>United Package</td>\n",
              "      <td>Warszawa</td>\n",
              "      <td>Poland</td>\n",
              "      <td>30.0</td>\n",
              "      <td>7.7500</td>\n",
              "      <td>0.00</td>\n",
              "      <td>Rh├Ânbr├ñu Klosterbier</td>\n",
              "    </tr>\n",
              "    <tr>\n",
              "      <th>2156</th>\n",
              "      <td>WOLZA</td>\n",
              "      <td>Wolski  Zajazd</td>\n",
              "      <td>Owner</td>\n",
              "      <td>Warszawa</td>\n",
              "      <td>Poland</td>\n",
              "      <td>11044.0</td>\n",
              "      <td>1996-05-23</td>\n",
              "      <td>1996-06-20</td>\n",
              "      <td>1996-05-31</td>\n",
              "      <td>Speedy Express</td>\n",
              "      <td>Warszawa</td>\n",
              "      <td>Poland</td>\n",
              "      <td>12.0</td>\n",
              "      <td>49.3000</td>\n",
              "      <td>0.00</td>\n",
              "      <td>Tarte au sucre</td>\n",
              "    </tr>\n",
              "  </tbody>\n",
              "</table>\n",
              "<p>2157 rows × 16 columns</p>\n",
              "</div>"
            ],
            "text/plain": [
              "     CustomerID          CompanyName          ContactTitle      City  Country  \\\n",
              "0         ALFKI  Alfreds Futterkiste  Sales Representative    Berlin  Germany   \n",
              "1         ALFKI  Alfreds Futterkiste  Sales Representative    Berlin  Germany   \n",
              "2         ALFKI  Alfreds Futterkiste  Sales Representative    Berlin  Germany   \n",
              "3         ALFKI  Alfreds Futterkiste  Sales Representative    Berlin  Germany   \n",
              "4         ALFKI  Alfreds Futterkiste  Sales Representative    Berlin  Germany   \n",
              "...         ...                  ...                   ...       ...      ...   \n",
              "2152      WOLZA       Wolski  Zajazd                 Owner  Warszawa   Poland   \n",
              "2153      WOLZA       Wolski  Zajazd                 Owner  Warszawa   Poland   \n",
              "2154      WOLZA       Wolski  Zajazd                 Owner  Warszawa   Poland   \n",
              "2155      WOLZA       Wolski  Zajazd                 Owner  Warszawa   Poland   \n",
              "2156      WOLZA       Wolski  Zajazd                 Owner  Warszawa   Poland   \n",
              "\n",
              "      orderID  OrderDate RequiredDate ShippedDate         shipVia  ShipCity  \\\n",
              "0     10643.0 1995-09-25   1995-10-23  1995-10-03  Speedy Express    Berlin   \n",
              "1     10643.0 1995-09-25   1995-10-23  1995-10-03  Speedy Express    Berlin   \n",
              "2     10643.0 1995-09-25   1995-10-23  1995-10-03  Speedy Express    Berlin   \n",
              "3     10692.0 1995-11-03   1995-12-01  1995-11-13  United Package    Berlin   \n",
              "4     10702.0 1995-11-13   1995-12-25  1995-11-21  Speedy Express    Berlin   \n",
              "...       ...        ...          ...         ...             ...       ...   \n",
              "2152  10998.0 1996-05-03   1996-05-17  1996-05-17  United Package  Warszawa   \n",
              "2153  10998.0 1996-05-03   1996-05-17  1996-05-17  United Package  Warszawa   \n",
              "2154  10998.0 1996-05-03   1996-05-17  1996-05-17  United Package  Warszawa   \n",
              "2155  10998.0 1996-05-03   1996-05-17  1996-05-17  United Package  Warszawa   \n",
              "2156  11044.0 1996-05-23   1996-06-20  1996-05-31  Speedy Express  Warszawa   \n",
              "\n",
              "     ShipCountry  Quantity UnitPrice  Discount             ProductName  \n",
              "0        Germany      15.0   45.6000      0.25      R├Âssle Sauerkraut  \n",
              "1        Germany      21.0   18.0000      0.25        Chartreuse verte  \n",
              "2        Germany       2.0   12.0000      0.25               Spegesild  \n",
              "3        Germany      20.0   43.9000      0.00            Vegie-spread  \n",
              "4        Germany       6.0   10.0000      0.00           Aniseed Syrup  \n",
              "...          ...       ...       ...       ...                     ...  \n",
              "2152      Poland      12.0    4.5000      0.00    Guaran├í Fant├ística  \n",
              "2153      Poland       7.0   28.5000      0.00         Sirop d'├®rable  \n",
              "2154      Poland      20.0   10.0000      0.00           Longlife Tofu  \n",
              "2155      Poland      30.0    7.7500      0.00  Rh├Ânbr├ñu Klosterbier  \n",
              "2156      Poland      12.0   49.3000      0.00          Tarte au sucre  \n",
              "\n",
              "[2157 rows x 16 columns]"
            ]
          },
          "execution_count": 4,
          "metadata": {},
          "output_type": "execute_result"
        }
      ],
      "source": [
        "# Query 1\n",
        "\n",
        "tabel1 = sql_table (\n",
        "    '''\n",
        "select c.CustomerID, c.CompanyName, c.ContactTitle, c.City, c.Country,\n",
        "o.orderID, o.OrderDate, o.RequiredDate, o.ShippedDate, s.CompanyName as shipVia, o.ShipCity, o.ShipCountry,\n",
        "od.Quantity, od.UnitPrice, od. Discount,\n",
        "p.ProductName\n",
        "\n",
        "from customers c\n",
        "left join orders o on c.customerID = o.CustomerID\n",
        "left join orderdetails od on o.orderID = od.orderID\n",
        "left join products p on od.productID = p.productID\n",
        "left join shippers s on o.shipVia = s.shipperID;\n",
        "    '''\n",
        ")\n",
        "tabel1"
      ]
    },
    {
      "cell_type": "markdown",
      "metadata": {
        "id": "GgkBi2yuDSrY"
      },
      "source": [
        "## **Data Jenis Produk, Kuantitas, dan Total Harga Beli**\n",
        "\n",
        "```Berapa banyak jumlah transaksi yang dilakukan berdasarkan perusahaan, kota, dan negara? serta perusahaan dan kota apa yang memiliki jumlah transaksi terbanyak?```\n",
        "\n",
        "Data yang kedua ini memuat nama perusahaan, negara, kota serta jumlah transaksi yang dilakukan. Berdasarkan data ini, dapat dilihat perusahaan yang memiliki jumlah transaksi yang tinggi dan rendah disertai dengan lokasi negara, kota perusahaan tersebut."
      ]
    },
    {
      "cell_type": "code",
      "execution_count": 5,
      "metadata": {
        "id": "jyp9IFl2DSrY",
        "outputId": "97d9596c-7ce3-4706-8ecf-f85287a3b53a"
      },
      "outputs": [
        {
          "data": {
            "text/html": [
              "<div>\n",
              "<style scoped>\n",
              "    .dataframe tbody tr th:only-of-type {\n",
              "        vertical-align: middle;\n",
              "    }\n",
              "\n",
              "    .dataframe tbody tr th {\n",
              "        vertical-align: top;\n",
              "    }\n",
              "\n",
              "    .dataframe thead th {\n",
              "        text-align: right;\n",
              "    }\n",
              "</style>\n",
              "<table border=\"1\" class=\"dataframe\">\n",
              "  <thead>\n",
              "    <tr style=\"text-align: right;\">\n",
              "      <th></th>\n",
              "      <th>CompanyName</th>\n",
              "      <th>country</th>\n",
              "      <th>city</th>\n",
              "      <th>jumlahOrder</th>\n",
              "    </tr>\n",
              "  </thead>\n",
              "  <tbody>\n",
              "    <tr>\n",
              "      <th>0</th>\n",
              "      <td>Save-a-lot Markets</td>\n",
              "      <td>USA</td>\n",
              "      <td>Boise</td>\n",
              "      <td>332394</td>\n",
              "    </tr>\n",
              "    <tr>\n",
              "      <th>1</th>\n",
              "      <td>Ernst Handel</td>\n",
              "      <td>Austria</td>\n",
              "      <td>Graz</td>\n",
              "      <td>319865</td>\n",
              "    </tr>\n",
              "    <tr>\n",
              "      <th>2</th>\n",
              "      <td>QUICK-Stop</td>\n",
              "      <td>Germany</td>\n",
              "      <td>Cunewalde</td>\n",
              "      <td>298009</td>\n",
              "    </tr>\n",
              "    <tr>\n",
              "      <th>3</th>\n",
              "      <td>Folk och f├ñ HB</td>\n",
              "      <td>Sweden</td>\n",
              "      <td>Br├ñcke</td>\n",
              "      <td>203758</td>\n",
              "    </tr>\n",
              "    <tr>\n",
              "      <th>4</th>\n",
              "      <td>Hungry Owl All-Night Grocers</td>\n",
              "      <td>Ireland</td>\n",
              "      <td>Cork</td>\n",
              "      <td>201710</td>\n",
              "    </tr>\n",
              "    <tr>\n",
              "      <th>...</th>\n",
              "      <td>...</td>\n",
              "      <td>...</td>\n",
              "      <td>...</td>\n",
              "      <td>...</td>\n",
              "    </tr>\n",
              "    <tr>\n",
              "      <th>86</th>\n",
              "      <td>GROSELLA-Restaurante</td>\n",
              "      <td>Venezuela</td>\n",
              "      <td>Caracas</td>\n",
              "      <td>21053</td>\n",
              "    </tr>\n",
              "    <tr>\n",
              "      <th>87</th>\n",
              "      <td>Lazy K Kountry Store</td>\n",
              "      <td>USA</td>\n",
              "      <td>Walla Walla</td>\n",
              "      <td>21027</td>\n",
              "    </tr>\n",
              "    <tr>\n",
              "      <th>88</th>\n",
              "      <td>Centro comercial Moctezuma</td>\n",
              "      <td>Mexico</td>\n",
              "      <td>M├®xico D.F.</td>\n",
              "      <td>10259</td>\n",
              "    </tr>\n",
              "    <tr>\n",
              "      <th>89</th>\n",
              "      <td>FISSA Fabrica Inter. Salchichas S.A.</td>\n",
              "      <td>Spain</td>\n",
              "      <td>Madrid</td>\n",
              "      <td>None</td>\n",
              "    </tr>\n",
              "    <tr>\n",
              "      <th>90</th>\n",
              "      <td>Paris sp├®cialit├®s</td>\n",
              "      <td>France</td>\n",
              "      <td>Paris</td>\n",
              "      <td>None</td>\n",
              "    </tr>\n",
              "  </tbody>\n",
              "</table>\n",
              "<p>91 rows × 4 columns</p>\n",
              "</div>"
            ],
            "text/plain": [
              "                             CompanyName    country          city jumlahOrder\n",
              "0                     Save-a-lot Markets        USA         Boise      332394\n",
              "1                           Ernst Handel    Austria          Graz      319865\n",
              "2                             QUICK-Stop    Germany     Cunewalde      298009\n",
              "3                        Folk och f├ñ HB     Sweden       Br├ñcke      203758\n",
              "4           Hungry Owl All-Night Grocers    Ireland          Cork      201710\n",
              "..                                   ...        ...           ...         ...\n",
              "86                  GROSELLA-Restaurante  Venezuela       Caracas       21053\n",
              "87                  Lazy K Kountry Store        USA   Walla Walla       21027\n",
              "88            Centro comercial Moctezuma     Mexico  M├®xico D.F.       10259\n",
              "89  FISSA Fabrica Inter. Salchichas S.A.      Spain        Madrid        None\n",
              "90                   Paris sp├®cialit├®s     France         Paris        None\n",
              "\n",
              "[91 rows x 4 columns]"
            ]
          },
          "execution_count": 5,
          "metadata": {},
          "output_type": "execute_result"
        }
      ],
      "source": [
        "# Query 2 (Aggregating)\n",
        "\n",
        "tabel2 = sql_table (\n",
        "    '''\n",
        "select CompanyName, country, city, sum(orderID) jumlahOrder\n",
        "FROM customers c\n",
        "left join orders o ON c.customerID = o.CustomerID\n",
        "group by CompanyName\n",
        "order by jumlahOrder DESC;\n",
        "    '''\n",
        ")\n",
        "\n",
        "tabel2"
      ]
    },
    {
      "cell_type": "markdown",
      "metadata": {},
      "source": [
        "Data yang ketiga memuat negara dan kota serta jumlah transaksi yang dilakukan berdasarkan masing-masing kota. Berdasarkan data ini, dapat dilihat negara dan kota yang memiliki jumlah transaksi yang tinggi dan rendah."
      ]
    },
    {
      "cell_type": "code",
      "execution_count": 6,
      "metadata": {},
      "outputs": [
        {
          "data": {
            "text/html": [
              "<div>\n",
              "<style scoped>\n",
              "    .dataframe tbody tr th:only-of-type {\n",
              "        vertical-align: middle;\n",
              "    }\n",
              "\n",
              "    .dataframe tbody tr th {\n",
              "        vertical-align: top;\n",
              "    }\n",
              "\n",
              "    .dataframe thead th {\n",
              "        text-align: right;\n",
              "    }\n",
              "</style>\n",
              "<table border=\"1\" class=\"dataframe\">\n",
              "  <thead>\n",
              "    <tr style=\"text-align: right;\">\n",
              "      <th></th>\n",
              "      <th>RankOrder</th>\n",
              "      <th>country</th>\n",
              "      <th>city</th>\n",
              "      <th>jumlahOrder</th>\n",
              "    </tr>\n",
              "  </thead>\n",
              "  <tbody>\n",
              "    <tr>\n",
              "      <th>0</th>\n",
              "      <td>1</td>\n",
              "      <td>UK</td>\n",
              "      <td>London</td>\n",
              "      <td>491011</td>\n",
              "    </tr>\n",
              "    <tr>\n",
              "      <th>1</th>\n",
              "      <td>2</td>\n",
              "      <td>Brazil</td>\n",
              "      <td>Rio de Janeiro</td>\n",
              "      <td>362659</td>\n",
              "    </tr>\n",
              "    <tr>\n",
              "      <th>2</th>\n",
              "      <td>3</td>\n",
              "      <td>USA</td>\n",
              "      <td>Boise</td>\n",
              "      <td>332394</td>\n",
              "    </tr>\n",
              "    <tr>\n",
              "      <th>3</th>\n",
              "      <td>4</td>\n",
              "      <td>Brazil</td>\n",
              "      <td>S├úo Paulo</td>\n",
              "      <td>330276</td>\n",
              "    </tr>\n",
              "    <tr>\n",
              "      <th>4</th>\n",
              "      <td>5</td>\n",
              "      <td>Austria</td>\n",
              "      <td>Graz</td>\n",
              "      <td>319865</td>\n",
              "    </tr>\n",
              "    <tr>\n",
              "      <th>...</th>\n",
              "      <td>...</td>\n",
              "      <td>...</td>\n",
              "      <td>...</td>\n",
              "      <td>...</td>\n",
              "    </tr>\n",
              "    <tr>\n",
              "      <th>64</th>\n",
              "      <td>65</td>\n",
              "      <td>USA</td>\n",
              "      <td>Butte</td>\n",
              "      <td>32402</td>\n",
              "    </tr>\n",
              "    <tr>\n",
              "      <th>65</th>\n",
              "      <td>66</td>\n",
              "      <td>USA</td>\n",
              "      <td>Kirkland</td>\n",
              "      <td>31973</td>\n",
              "    </tr>\n",
              "    <tr>\n",
              "      <th>66</th>\n",
              "      <td>67</td>\n",
              "      <td>Canada</td>\n",
              "      <td>Vancouver</td>\n",
              "      <td>31925</td>\n",
              "    </tr>\n",
              "    <tr>\n",
              "      <th>67</th>\n",
              "      <td>68</td>\n",
              "      <td>Venezuela</td>\n",
              "      <td>Caracas</td>\n",
              "      <td>21053</td>\n",
              "    </tr>\n",
              "    <tr>\n",
              "      <th>68</th>\n",
              "      <td>69</td>\n",
              "      <td>USA</td>\n",
              "      <td>Walla Walla</td>\n",
              "      <td>21027</td>\n",
              "    </tr>\n",
              "  </tbody>\n",
              "</table>\n",
              "<p>69 rows × 4 columns</p>\n",
              "</div>"
            ],
            "text/plain": [
              "    RankOrder    country            city jumlahOrder\n",
              "0           1         UK          London      491011\n",
              "1           2     Brazil  Rio de Janeiro      362659\n",
              "2           3        USA           Boise      332394\n",
              "3           4     Brazil      S├úo Paulo      330276\n",
              "4           5    Austria            Graz      319865\n",
              "..        ...        ...             ...         ...\n",
              "64         65        USA           Butte       32402\n",
              "65         66        USA        Kirkland       31973\n",
              "66         67     Canada       Vancouver       31925\n",
              "67         68  Venezuela         Caracas       21053\n",
              "68         69        USA     Walla Walla       21027\n",
              "\n",
              "[69 rows x 4 columns]"
            ]
          },
          "execution_count": 6,
          "metadata": {},
          "output_type": "execute_result"
        }
      ],
      "source": [
        "# Query 3 (Aggregating & Window Function)\n",
        "\n",
        "tabel3 = sql_table (\n",
        "    '''\n",
        "select RANK() over(order by sum(orderID) DESC) as RankOrder, country, city, sum(orderID) jumlahOrder\n",
        "FROM customers c\n",
        "left join orders o ON c.customerID = o.CustomerID\n",
        "group by city\n",
        "order by jumlahOrder DESC;\n",
        "    '''\n",
        ")\n",
        "\n",
        "tabel3"
      ]
    },
    {
      "cell_type": "markdown",
      "metadata": {
        "id": "ezy_8Ii8DSrZ"
      },
      "source": [
        "# **DATA MANIPULATION**"
      ]
    },
    {
      "cell_type": "markdown",
      "metadata": {
        "id": "xD21IlC7DSrZ"
      },
      "source": [
        "Seperti yang telah dijelaskan sebelumnya, data yang digunakan untuk dianalisis adalah data pada ```tabel1```. Sebelum melakukan analisis lebih lanjut, hal yang harus dilakukan adalah mengecek informasi serta anomali pada data. Jika memang terdapat hal-hal yang dianggap 'kotor' pada data, maka yang perlu dilakukan adalah melakukan penanganan pada bagian tersebut. Pada bagian ini, data akan 'dibersihkan', sehingga output akhir yang diharapkan adalah terdapat sebuah dataset yang bersih yang dapat dianalisis lebih lanjut dengan menampilkan visualisasi, serta melihat statistics-nya."
      ]
    },
    {
      "cell_type": "markdown",
      "metadata": {
        "id": "2OJybjUNDSrZ"
      },
      "source": [
        "## **Data Anomalies**"
      ]
    },
    {
      "cell_type": "markdown",
      "metadata": {},
      "source": [
        "**```Apakah terdapat anomaly berupa missing value, kesalahan data type, dan data duplicate? Jika ada, tunjukan dan lakukan penanganan pada anomaly tersebut.```**"
      ]
    },
    {
      "cell_type": "code",
      "execution_count": 7,
      "metadata": {
        "colab": {
          "base_uri": "https://localhost:8080/",
          "height": 200
        },
        "id": "QK4Mehk_DSrZ",
        "outputId": "a7b30258-6059-4068-8899-ca8d19f0acc3"
      },
      "outputs": [
        {
          "name": "stdout",
          "output_type": "stream",
          "text": [
            "<class 'pandas.core.frame.DataFrame'>\n",
            "RangeIndex: 2157 entries, 0 to 2156\n",
            "Data columns (total 16 columns):\n",
            " #   Column        Non-Null Count  Dtype         \n",
            "---  ------        --------------  -----         \n",
            " 0   CustomerID    2157 non-null   object        \n",
            " 1   CompanyName   2157 non-null   object        \n",
            " 2   ContactTitle  2157 non-null   object        \n",
            " 3   City          2157 non-null   object        \n",
            " 4   Country       2157 non-null   object        \n",
            " 5   orderID       2155 non-null   float64       \n",
            " 6   OrderDate     2155 non-null   datetime64[ns]\n",
            " 7   RequiredDate  2155 non-null   datetime64[ns]\n",
            " 8   ShippedDate   2082 non-null   datetime64[ns]\n",
            " 9   shipVia       2155 non-null   object        \n",
            " 10  ShipCity      2155 non-null   object        \n",
            " 11  ShipCountry   2155 non-null   object        \n",
            " 12  Quantity      2155 non-null   float64       \n",
            " 13  UnitPrice     2155 non-null   object        \n",
            " 14  Discount      2155 non-null   float64       \n",
            " 15  ProductName   2155 non-null   object        \n",
            "dtypes: datetime64[ns](3), float64(3), object(10)\n",
            "memory usage: 269.8+ KB\n"
          ]
        }
      ],
      "source": [
        "# Check Info Tabel1\n",
        "\n",
        "tabel1.info()"
      ]
    },
    {
      "cell_type": "markdown",
      "metadata": {
        "id": "oNzD26-HDSra"
      },
      "source": [
        "## **Melihat Data Sekilas Dari General Info**\n",
        "\n",
        "Berdasarkan general info yang ditampilkan, terdapat 2157 baris data dengan total 15 kolom. Jika melihat informasi tersebut, tidak semua kolom atau feature yang memiliki data lengkap. Yang paling terlihat berbeda adalah  ```Shipped Date``` yang kehilangan kurang lebih sekitar 3% data. Selain dari itu, ada beberapa feature yang terdapat missing data dengan jumlah yang tidak banyak. **Kesimpulan pertama adalah bahwa terdapat *missing value* yang harus ditanggulangi.**\n",
        "\n",
        "Selanjutnya, terdapat beberapa feature yang memiliki data type yang tidak sesuai, yaitu: \n",
        "1. orderID (float64)\n",
        "2. UnitPrice (object)\n",
        "\n",
        "Feature UnitPrice merupakan feature yang memiliki data numerik di dalamnya. Namun, feature ini memiliki data type object, sehingga selanjutnya feature ini harus diubah menjadi integer. Selanjutnya orderID merupakan feature yang memiliki data numerik didalamnya, namun tidak memerlukan unsur ',' (koma) di dalamnya. Sehingga, juga akan diubah menjadi integer. maka **kesimpulan keduanya adalah terdapat features yang memiliki tipe data yang salah dan harus diubah sesuai dengan tipe data seharusnya.**"
      ]
    },
    {
      "cell_type": "code",
      "execution_count": 8,
      "metadata": {
        "id": "HHZ6-_KrDSra",
        "outputId": "4b57787a-5cfb-41e5-ba64-bb3b2fb54f6a"
      },
      "outputs": [
        {
          "data": {
            "text/plain": [
              "CustomerID      0.000000\n",
              "CompanyName     0.000000\n",
              "ContactTitle    0.000000\n",
              "City            0.000000\n",
              "Country         0.000000\n",
              "orderID         0.092721\n",
              "OrderDate       0.092721\n",
              "RequiredDate    0.092721\n",
              "ShippedDate     3.477051\n",
              "shipVia         0.092721\n",
              "ShipCity        0.092721\n",
              "ShipCountry     0.092721\n",
              "Quantity        0.092721\n",
              "UnitPrice       0.092721\n",
              "Discount        0.092721\n",
              "ProductName     0.092721\n",
              "dtype: float64"
            ]
          },
          "execution_count": 8,
          "metadata": {},
          "output_type": "execute_result"
        }
      ],
      "source": [
        "# Check Missing Value Percentage\n",
        "\n",
        "tabel1.isnull().sum()/len(tabel1)*100"
      ]
    },
    {
      "cell_type": "markdown",
      "metadata": {
        "id": "R5fAoJDNDSra"
      },
      "source": [
        "## **Missing Values**\n",
        "\n",
        "Telah dijelaskan sebelumnya, terdapat beberapa feature yang memang memiliki missing values. Feature dengan missing value terbanyak adalah ShippedDate sebesar 3,4% dan sisanya hanya sebesar 0.09%. Berdasarkan pertimbangan jumlah row dengan data missing tidak lebih dari 5%, maka penanggulangan data missing pada dataframe ini adalah dengan melakukan drop row."
      ]
    },
    {
      "cell_type": "markdown",
      "metadata": {
        "id": "7Woi1EUZDSrb"
      },
      "source": [
        "## **Handling Anomalies**"
      ]
    },
    {
      "cell_type": "code",
      "execution_count": 9,
      "metadata": {
        "id": "XTX1XYJTDSrb"
      },
      "outputs": [],
      "source": [
        "# Remove Missing Value 1\n",
        "\n",
        "tabel1.dropna(inplace = True)"
      ]
    },
    {
      "cell_type": "markdown",
      "metadata": {
        "id": "blewve-SDSrc"
      },
      "source": [
        "## **Recheck Missing Value Information**\n",
        "\n",
        "Setelah melakukan proses drop missing value terhadap row, selanjutnya adalah melakukan pengecekan terhadap data yang dimiliki untuk memastikan apakah sudah tidak ada missing value lagi. Berdasarkan data diatas, masing-masing feature sudah memiliki 0 missing value yang berarti masalah missing value sudah teratasi."
      ]
    },
    {
      "cell_type": "code",
      "execution_count": 10,
      "metadata": {
        "id": "QLbBgT4XDSrb",
        "outputId": "db405bf2-bfca-4cca-f3ea-3d8246374303"
      },
      "outputs": [
        {
          "data": {
            "text/plain": [
              "CustomerID      0\n",
              "CompanyName     0\n",
              "ContactTitle    0\n",
              "City            0\n",
              "Country         0\n",
              "orderID         0\n",
              "OrderDate       0\n",
              "RequiredDate    0\n",
              "ShippedDate     0\n",
              "shipVia         0\n",
              "ShipCity        0\n",
              "ShipCountry     0\n",
              "Quantity        0\n",
              "UnitPrice       0\n",
              "Discount        0\n",
              "ProductName     0\n",
              "dtype: int64"
            ]
          },
          "execution_count": 10,
          "metadata": {},
          "output_type": "execute_result"
        }
      ],
      "source": [
        "# Recheck Info\n",
        "\n",
        "tabel1.isnull().sum()"
      ]
    },
    {
      "cell_type": "markdown",
      "metadata": {
        "id": "DYYKKPNJDSrc"
      },
      "source": [
        "## **Mengubah Tipe Data Yang Salah**\n",
        "\n",
        "Seperti yang telah dijelaskan sebelumnya. Pada tahap ini, feature orderID dan UnitPrice akan diubah menjadi numerik."
      ]
    },
    {
      "cell_type": "code",
      "execution_count": 11,
      "metadata": {
        "id": "lzhQlg_BDSrc"
      },
      "outputs": [],
      "source": [
        "# Change Spesific Column To Numeric Format\n",
        "\n",
        "tabel1['orderID'] = pd.to_numeric(tabel1['orderID'], downcast = 'integer')\n",
        "tabel1['UnitPrice'] = pd.to_numeric(tabel1['UnitPrice'])\n"
      ]
    },
    {
      "cell_type": "markdown",
      "metadata": {},
      "source": [
        "## **Recheck Data Information**\n",
        "\n",
        "Pada tahap sebelumnya, telah dilakukan perubahan data type terhadap 3 feature yaitu: ```order ID``` dan ```UnitPrice```. Selanjutnya dilakukan pengecekan kembali pada general data information untuk memastikan bahwa proses perubahan data type telah berhasil dilakukan. Hasil Pengecekan menunjukkan bahwa 2 feature di atas telah mengalami perubahan data type.\n"
      ]
    },
    {
      "cell_type": "code",
      "execution_count": 12,
      "metadata": {
        "id": "W3PtaLS-DSrc",
        "outputId": "c5bbdde4-b7f6-4cef-ff57-3f6b480545e0"
      },
      "outputs": [
        {
          "name": "stdout",
          "output_type": "stream",
          "text": [
            "<class 'pandas.core.frame.DataFrame'>\n",
            "Int64Index: 2082 entries, 0 to 2156\n",
            "Data columns (total 16 columns):\n",
            " #   Column        Non-Null Count  Dtype         \n",
            "---  ------        --------------  -----         \n",
            " 0   CustomerID    2082 non-null   object        \n",
            " 1   CompanyName   2082 non-null   object        \n",
            " 2   ContactTitle  2082 non-null   object        \n",
            " 3   City          2082 non-null   object        \n",
            " 4   Country       2082 non-null   object        \n",
            " 5   orderID       2082 non-null   int16         \n",
            " 6   OrderDate     2082 non-null   datetime64[ns]\n",
            " 7   RequiredDate  2082 non-null   datetime64[ns]\n",
            " 8   ShippedDate   2082 non-null   datetime64[ns]\n",
            " 9   shipVia       2082 non-null   object        \n",
            " 10  ShipCity      2082 non-null   object        \n",
            " 11  ShipCountry   2082 non-null   object        \n",
            " 12  Quantity      2082 non-null   float64       \n",
            " 13  UnitPrice     2082 non-null   float64       \n",
            " 14  Discount      2082 non-null   float64       \n",
            " 15  ProductName   2082 non-null   object        \n",
            "dtypes: datetime64[ns](3), float64(3), int16(1), object(9)\n",
            "memory usage: 264.3+ KB\n"
          ]
        }
      ],
      "source": [
        "# Recheck Info\n",
        "\n",
        "tabel1.info()"
      ]
    },
    {
      "cell_type": "markdown",
      "metadata": {
        "id": "KzgH6tt8DSrd"
      },
      "source": [
        "## **Data Duplicate**\n",
        "\n",
        "Pada tahap ini, dilakukan pengecekan terhadap data duplikat. Apabila terdapat data yang duplikat maka data duplikatnya akan dihapus. Untuk data saat ini, melihat output di bawah artinya tidak terdapat data yang duplikat. Dengan begitu tidak perlu ada action yang dilakukan."
      ]
    },
    {
      "cell_type": "code",
      "execution_count": 13,
      "metadata": {
        "id": "Pv4OKU-UDSrc",
        "outputId": "82af9b6b-4022-4cce-990b-db78835b2177"
      },
      "outputs": [
        {
          "data": {
            "text/html": [
              "<div>\n",
              "<style scoped>\n",
              "    .dataframe tbody tr th:only-of-type {\n",
              "        vertical-align: middle;\n",
              "    }\n",
              "\n",
              "    .dataframe tbody tr th {\n",
              "        vertical-align: top;\n",
              "    }\n",
              "\n",
              "    .dataframe thead th {\n",
              "        text-align: right;\n",
              "    }\n",
              "</style>\n",
              "<table border=\"1\" class=\"dataframe\">\n",
              "  <thead>\n",
              "    <tr style=\"text-align: right;\">\n",
              "      <th></th>\n",
              "      <th>CustomerID</th>\n",
              "      <th>CompanyName</th>\n",
              "      <th>ContactTitle</th>\n",
              "      <th>City</th>\n",
              "      <th>Country</th>\n",
              "      <th>orderID</th>\n",
              "      <th>OrderDate</th>\n",
              "      <th>RequiredDate</th>\n",
              "      <th>ShippedDate</th>\n",
              "      <th>shipVia</th>\n",
              "      <th>ShipCity</th>\n",
              "      <th>ShipCountry</th>\n",
              "      <th>Quantity</th>\n",
              "      <th>UnitPrice</th>\n",
              "      <th>Discount</th>\n",
              "      <th>ProductName</th>\n",
              "    </tr>\n",
              "  </thead>\n",
              "  <tbody>\n",
              "  </tbody>\n",
              "</table>\n",
              "</div>"
            ],
            "text/plain": [
              "Empty DataFrame\n",
              "Columns: [CustomerID, CompanyName, ContactTitle, City, Country, orderID, OrderDate, RequiredDate, ShippedDate, shipVia, ShipCity, ShipCountry, Quantity, UnitPrice, Discount, ProductName]\n",
              "Index: []"
            ]
          },
          "execution_count": 13,
          "metadata": {},
          "output_type": "execute_result"
        }
      ],
      "source": [
        "# Check Dupliacate\n",
        "\n",
        "tabel1[tabel1.duplicated()]"
      ]
    },
    {
      "cell_type": "markdown",
      "metadata": {
        "id": "Ii-AWsFzDSrd"
      },
      "source": [
        "## **Feature 'ProcessingDate' dan 'OnTimeShipped'**\n",
        "\n",
        "```Apakah tipe data datetime pada data ini dapat diolah? Jika ya, carilah selisih waktu barang sampai dengan barang diorder, serta apakah barang sampai sebelum waktu barang diharuskan untuk sampai?```\n",
        "\n",
        "Data awal menunjukan terdapat 3 features yang merupakan tipe data datetime, yaitu: orderDate (Tanggal barang dipesan), RequiredDate (Tanggal barang dibutuhkan/barang harus sampai di customer), ShippedDate (Tanggal barang sampai di customer).\n",
        "\n",
        "Melihat ketiga definisi tersebut, terdapat informasi yang dapat diambil, yakni seberapa lama waktu proses barangnya dari waktu diorder hingga sampai di customer dan apakah barang sampai pada customer sebelum waktu barang dibutuhkan."
      ]
    },
    {
      "cell_type": "code",
      "execution_count": 14,
      "metadata": {},
      "outputs": [
        {
          "data": {
            "text/html": [
              "<div>\n",
              "<style scoped>\n",
              "    .dataframe tbody tr th:only-of-type {\n",
              "        vertical-align: middle;\n",
              "    }\n",
              "\n",
              "    .dataframe tbody tr th {\n",
              "        vertical-align: top;\n",
              "    }\n",
              "\n",
              "    .dataframe thead th {\n",
              "        text-align: right;\n",
              "    }\n",
              "</style>\n",
              "<table border=\"1\" class=\"dataframe\">\n",
              "  <thead>\n",
              "    <tr style=\"text-align: right;\">\n",
              "      <th></th>\n",
              "      <th>CustomerID</th>\n",
              "      <th>CompanyName</th>\n",
              "      <th>ContactTitle</th>\n",
              "      <th>City</th>\n",
              "      <th>Country</th>\n",
              "      <th>orderID</th>\n",
              "      <th>OrderDate</th>\n",
              "      <th>RequiredDate</th>\n",
              "      <th>ShippedDate</th>\n",
              "      <th>shipVia</th>\n",
              "      <th>ShipCity</th>\n",
              "      <th>ShipCountry</th>\n",
              "      <th>Quantity</th>\n",
              "      <th>UnitPrice</th>\n",
              "      <th>Discount</th>\n",
              "      <th>ProductName</th>\n",
              "      <th>ProcessingDate</th>\n",
              "    </tr>\n",
              "  </thead>\n",
              "  <tbody>\n",
              "    <tr>\n",
              "      <th>498</th>\n",
              "      <td>FOLKO</td>\n",
              "      <td>Folk och f├ñ HB</td>\n",
              "      <td>Owner</td>\n",
              "      <td>Br├ñcke</td>\n",
              "      <td>Sweden</td>\n",
              "      <td>10264</td>\n",
              "      <td>1994-08-24</td>\n",
              "      <td>1994-09-21</td>\n",
              "      <td>1994-09-23</td>\n",
              "      <td>Federal Shipping</td>\n",
              "      <td>Br├ñcke</td>\n",
              "      <td>Sweden</td>\n",
              "      <td>35.0</td>\n",
              "      <td>15.20</td>\n",
              "      <td>0.0</td>\n",
              "      <td>Chang</td>\n",
              "      <td>30 days</td>\n",
              "    </tr>\n",
              "    <tr>\n",
              "      <th>917</th>\n",
              "      <td>LACOR</td>\n",
              "      <td>La corne d'abondance</td>\n",
              "      <td>Sales Representative</td>\n",
              "      <td>Versailles</td>\n",
              "      <td>France</td>\n",
              "      <td>10973</td>\n",
              "      <td>1996-04-23</td>\n",
              "      <td>1996-05-21</td>\n",
              "      <td>1996-04-26</td>\n",
              "      <td>United Package</td>\n",
              "      <td>Versailles</td>\n",
              "      <td>France</td>\n",
              "      <td>5.0</td>\n",
              "      <td>31.23</td>\n",
              "      <td>0.0</td>\n",
              "      <td>Gumb├ñr Gummib├ñrchen</td>\n",
              "      <td>3 days</td>\n",
              "    </tr>\n",
              "    <tr>\n",
              "      <th>249</th>\n",
              "      <td>BSBEV</td>\n",
              "      <td>B's Beverages</td>\n",
              "      <td>Sales Representative</td>\n",
              "      <td>London</td>\n",
              "      <td>UK</td>\n",
              "      <td>10471</td>\n",
              "      <td>1995-04-11</td>\n",
              "      <td>1995-05-09</td>\n",
              "      <td>1995-04-18</td>\n",
              "      <td>Federal Shipping</td>\n",
              "      <td>London</td>\n",
              "      <td>UK</td>\n",
              "      <td>20.0</td>\n",
              "      <td>30.40</td>\n",
              "      <td>0.0</td>\n",
              "      <td>Gnocchi di nonna Alice</td>\n",
              "      <td>7 days</td>\n",
              "    </tr>\n",
              "    <tr>\n",
              "      <th>1730</th>\n",
              "      <td>SAVEA</td>\n",
              "      <td>Save-a-lot Markets</td>\n",
              "      <td>Sales Representative</td>\n",
              "      <td>Boise</td>\n",
              "      <td>USA</td>\n",
              "      <td>10984</td>\n",
              "      <td>1996-04-29</td>\n",
              "      <td>1996-05-27</td>\n",
              "      <td>1996-05-03</td>\n",
              "      <td>Federal Shipping</td>\n",
              "      <td>Boise</td>\n",
              "      <td>USA</td>\n",
              "      <td>20.0</td>\n",
              "      <td>4.50</td>\n",
              "      <td>0.0</td>\n",
              "      <td>Guaran├í Fant├ística</td>\n",
              "      <td>4 days</td>\n",
              "    </tr>\n",
              "    <tr>\n",
              "      <th>1074</th>\n",
              "      <td>LINOD</td>\n",
              "      <td>LINO-Delicateses</td>\n",
              "      <td>Owner</td>\n",
              "      <td>I. de Margarita</td>\n",
              "      <td>Venezuela</td>\n",
              "      <td>11014</td>\n",
              "      <td>1996-05-10</td>\n",
              "      <td>1996-06-07</td>\n",
              "      <td>1996-05-15</td>\n",
              "      <td>Federal Shipping</td>\n",
              "      <td>I. de Margarita</td>\n",
              "      <td>Venezuela</td>\n",
              "      <td>28.0</td>\n",
              "      <td>9.65</td>\n",
              "      <td>0.1</td>\n",
              "      <td>Jack's New England Clam Chowder</td>\n",
              "      <td>5 days</td>\n",
              "    </tr>\n",
              "  </tbody>\n",
              "</table>\n",
              "</div>"
            ],
            "text/plain": [
              "     CustomerID           CompanyName          ContactTitle             City  \\\n",
              "498       FOLKO       Folk och f├ñ HB                 Owner          Br├ñcke   \n",
              "917       LACOR  La corne d'abondance  Sales Representative       Versailles   \n",
              "249       BSBEV         B's Beverages  Sales Representative           London   \n",
              "1730      SAVEA    Save-a-lot Markets  Sales Representative            Boise   \n",
              "1074      LINOD      LINO-Delicateses                 Owner  I. de Margarita   \n",
              "\n",
              "        Country  orderID  OrderDate RequiredDate ShippedDate  \\\n",
              "498      Sweden    10264 1994-08-24   1994-09-21  1994-09-23   \n",
              "917      France    10973 1996-04-23   1996-05-21  1996-04-26   \n",
              "249          UK    10471 1995-04-11   1995-05-09  1995-04-18   \n",
              "1730        USA    10984 1996-04-29   1996-05-27  1996-05-03   \n",
              "1074  Venezuela    11014 1996-05-10   1996-06-07  1996-05-15   \n",
              "\n",
              "               shipVia         ShipCity ShipCountry  Quantity  UnitPrice  \\\n",
              "498   Federal Shipping          Br├ñcke      Sweden      35.0      15.20   \n",
              "917     United Package       Versailles      France       5.0      31.23   \n",
              "249   Federal Shipping           London          UK      20.0      30.40   \n",
              "1730  Federal Shipping            Boise         USA      20.0       4.50   \n",
              "1074  Federal Shipping  I. de Margarita   Venezuela      28.0       9.65   \n",
              "\n",
              "      Discount                      ProductName ProcessingDate  \n",
              "498        0.0                            Chang        30 days  \n",
              "917        0.0            Gumb├ñr Gummib├ñrchen         3 days  \n",
              "249        0.0           Gnocchi di nonna Alice         7 days  \n",
              "1730       0.0             Guaran├í Fant├ística         4 days  \n",
              "1074       0.1  Jack's New England Clam Chowder         5 days  "
            ]
          },
          "execution_count": 14,
          "metadata": {},
          "output_type": "execute_result"
        }
      ],
      "source": [
        "# Add New Column (Processing Day)\n",
        "\n",
        "tabel1['ProcessingDate'] = tabel1['ShippedDate'] - tabel1['OrderDate']\n",
        "tabel1.sample(5)"
      ]
    },
    {
      "cell_type": "code",
      "execution_count": 15,
      "metadata": {},
      "outputs": [
        {
          "data": {
            "text/html": [
              "<div>\n",
              "<style scoped>\n",
              "    .dataframe tbody tr th:only-of-type {\n",
              "        vertical-align: middle;\n",
              "    }\n",
              "\n",
              "    .dataframe tbody tr th {\n",
              "        vertical-align: top;\n",
              "    }\n",
              "\n",
              "    .dataframe thead th {\n",
              "        text-align: right;\n",
              "    }\n",
              "</style>\n",
              "<table border=\"1\" class=\"dataframe\">\n",
              "  <thead>\n",
              "    <tr style=\"text-align: right;\">\n",
              "      <th></th>\n",
              "      <th>CustomerID</th>\n",
              "      <th>CompanyName</th>\n",
              "      <th>ContactTitle</th>\n",
              "      <th>City</th>\n",
              "      <th>Country</th>\n",
              "      <th>orderID</th>\n",
              "      <th>OrderDate</th>\n",
              "      <th>RequiredDate</th>\n",
              "      <th>ShippedDate</th>\n",
              "      <th>shipVia</th>\n",
              "      <th>ShipCity</th>\n",
              "      <th>ShipCountry</th>\n",
              "      <th>Quantity</th>\n",
              "      <th>UnitPrice</th>\n",
              "      <th>Discount</th>\n",
              "      <th>ProductName</th>\n",
              "      <th>ProcessingDate</th>\n",
              "      <th>OnTimeShipped</th>\n",
              "    </tr>\n",
              "  </thead>\n",
              "  <tbody>\n",
              "    <tr>\n",
              "      <th>747</th>\n",
              "      <td>HILAA</td>\n",
              "      <td>HILARI├ôN-Abastos</td>\n",
              "      <td>Sales Representative</td>\n",
              "      <td>San Crist├│bal</td>\n",
              "      <td>Venezuela</td>\n",
              "      <td>10486</td>\n",
              "      <td>1995-04-26</td>\n",
              "      <td>1995-05-24</td>\n",
              "      <td>1995-05-03</td>\n",
              "      <td>United Package</td>\n",
              "      <td>San Crist├│bal</td>\n",
              "      <td>Venezuela</td>\n",
              "      <td>25.0</td>\n",
              "      <td>42.40</td>\n",
              "      <td>0.00</td>\n",
              "      <td>Manjimup Dried Apples</td>\n",
              "      <td>7 days</td>\n",
              "      <td>True</td>\n",
              "    </tr>\n",
              "    <tr>\n",
              "      <th>1094</th>\n",
              "      <td>MAGAA</td>\n",
              "      <td>Magazzini Alimentari Riuniti</td>\n",
              "      <td>Marketing Manager</td>\n",
              "      <td>Bergamo</td>\n",
              "      <td>Italy</td>\n",
              "      <td>10275</td>\n",
              "      <td>1994-09-07</td>\n",
              "      <td>1994-10-05</td>\n",
              "      <td>1994-09-09</td>\n",
              "      <td>Speedy Express</td>\n",
              "      <td>Bergamo</td>\n",
              "      <td>Italy</td>\n",
              "      <td>6.0</td>\n",
              "      <td>44.00</td>\n",
              "      <td>0.05</td>\n",
              "      <td>Raclette Courdavault</td>\n",
              "      <td>2 days</td>\n",
              "      <td>True</td>\n",
              "    </tr>\n",
              "    <tr>\n",
              "      <th>976</th>\n",
              "      <td>LEHMS</td>\n",
              "      <td>Lehmanns Marktstand</td>\n",
              "      <td>Sales Representative</td>\n",
              "      <td>Frankfurt a.M.</td>\n",
              "      <td>Germany</td>\n",
              "      <td>10534</td>\n",
              "      <td>1995-06-12</td>\n",
              "      <td>1995-07-10</td>\n",
              "      <td>1995-06-14</td>\n",
              "      <td>United Package</td>\n",
              "      <td>Frankfurt a.M.</td>\n",
              "      <td>Germany</td>\n",
              "      <td>10.0</td>\n",
              "      <td>25.89</td>\n",
              "      <td>0.00</td>\n",
              "      <td>Nord-Ost Matjeshering</td>\n",
              "      <td>2 days</td>\n",
              "      <td>True</td>\n",
              "    </tr>\n",
              "    <tr>\n",
              "      <th>1350</th>\n",
              "      <td>QUEEN</td>\n",
              "      <td>Queen Cozinha</td>\n",
              "      <td>Marketing Assistant</td>\n",
              "      <td>S├úo Paulo</td>\n",
              "      <td>Brazil</td>\n",
              "      <td>10914</td>\n",
              "      <td>1996-03-29</td>\n",
              "      <td>1996-04-26</td>\n",
              "      <td>1996-04-01</td>\n",
              "      <td>Speedy Express</td>\n",
              "      <td>S├úo Paulo</td>\n",
              "      <td>Brazil</td>\n",
              "      <td>25.0</td>\n",
              "      <td>21.50</td>\n",
              "      <td>0.00</td>\n",
              "      <td>Fl├©temysost</td>\n",
              "      <td>3 days</td>\n",
              "      <td>True</td>\n",
              "    </tr>\n",
              "    <tr>\n",
              "      <th>512</th>\n",
              "      <td>FOLKO</td>\n",
              "      <td>Folk och f├ñ HB</td>\n",
              "      <td>Owner</td>\n",
              "      <td>Br├ñcke</td>\n",
              "      <td>Sweden</td>\n",
              "      <td>10561</td>\n",
              "      <td>1995-07-07</td>\n",
              "      <td>1995-08-04</td>\n",
              "      <td>1995-07-10</td>\n",
              "      <td>United Package</td>\n",
              "      <td>Br├ñcke</td>\n",
              "      <td>Sweden</td>\n",
              "      <td>10.0</td>\n",
              "      <td>19.45</td>\n",
              "      <td>0.00</td>\n",
              "      <td>Gula Malacca</td>\n",
              "      <td>3 days</td>\n",
              "      <td>True</td>\n",
              "    </tr>\n",
              "  </tbody>\n",
              "</table>\n",
              "</div>"
            ],
            "text/plain": [
              "     CustomerID                   CompanyName          ContactTitle  \\\n",
              "747       HILAA             HILARI├ôN-Abastos  Sales Representative   \n",
              "1094      MAGAA  Magazzini Alimentari Riuniti     Marketing Manager   \n",
              "976       LEHMS           Lehmanns Marktstand  Sales Representative   \n",
              "1350      QUEEN                 Queen Cozinha   Marketing Assistant   \n",
              "512       FOLKO               Folk och f├ñ HB                 Owner   \n",
              "\n",
              "                 City    Country  orderID  OrderDate RequiredDate ShippedDate  \\\n",
              "747    San Crist├│bal  Venezuela    10486 1995-04-26   1995-05-24  1995-05-03   \n",
              "1094          Bergamo      Italy    10275 1994-09-07   1994-10-05  1994-09-09   \n",
              "976   Frankfurt a.M.     Germany    10534 1995-06-12   1995-07-10  1995-06-14   \n",
              "1350       S├úo Paulo     Brazil    10914 1996-03-29   1996-04-26  1996-04-01   \n",
              "512           Br├ñcke     Sweden    10561 1995-07-07   1995-08-04  1995-07-10   \n",
              "\n",
              "             shipVia         ShipCity ShipCountry  Quantity  UnitPrice  \\\n",
              "747   United Package   San Crist├│bal   Venezuela      25.0      42.40   \n",
              "1094  Speedy Express          Bergamo       Italy       6.0      44.00   \n",
              "976   United Package  Frankfurt a.M.      Germany      10.0      25.89   \n",
              "1350  Speedy Express       S├úo Paulo      Brazil      25.0      21.50   \n",
              "512   United Package          Br├ñcke      Sweden      10.0      19.45   \n",
              "\n",
              "      Discount            ProductName ProcessingDate  OnTimeShipped  \n",
              "747       0.00  Manjimup Dried Apples         7 days           True  \n",
              "1094      0.05   Raclette Courdavault         2 days           True  \n",
              "976       0.00  Nord-Ost Matjeshering         2 days           True  \n",
              "1350      0.00           Fl├©temysost         3 days           True  \n",
              "512       0.00           Gula Malacca         3 days           True  "
            ]
          },
          "execution_count": 15,
          "metadata": {},
          "output_type": "execute_result"
        }
      ],
      "source": [
        "# Add New Column (On Time Shipped)\n",
        "\n",
        "tabel1['OnTimeShipped'] = tabel1['RequiredDate'] >= tabel1['ShippedDate'] \n",
        "tabel1.sample(5)"
      ]
    },
    {
      "cell_type": "markdown",
      "metadata": {
        "id": "Vek3AI2QDSrd"
      },
      "source": [
        "## **Unique Value 'ProcessingDate' dan 'OnTimeShipped**\n",
        "\n",
        "Setelah membuat sebuah kolom baru yang bernama ProcessingDate dan OnTimeShipped, Selanjutnya kita akan melakukan pemeriksaan terhadap unique values beserta jumlah data di setiap unique values-nya untuk memastikan apakah terdapat data anomalies di dalamnya."
      ]
    },
    {
      "cell_type": "code",
      "execution_count": 16,
      "metadata": {
        "id": "WAkA7tPSDSrd",
        "outputId": "087a397a-d78f-4911-dc89-0a62453025c7"
      },
      "outputs": [
        {
          "data": {
            "text/plain": [
              "7 days     271\n",
              "6 days     241\n",
              "3 days     187\n",
              "9 days     184\n",
              "5 days     177\n",
              "4 days     176\n",
              "8 days     174\n",
              "2 days     149\n",
              "10 days    129\n",
              "12 days     45\n",
              "1 days      43\n",
              "11 days     34\n",
              "19 days     23\n",
              "21 days     20\n",
              "18 days     19\n",
              "29 days     19\n",
              "13 days     17\n",
              "23 days     15\n",
              "32 days     15\n",
              "15 days     14\n",
              "25 days     13\n",
              "20 days     13\n",
              "34 days     13\n",
              "35 days     12\n",
              "14 days     12\n",
              "30 days     11\n",
              "22 days     11\n",
              "17 days     11\n",
              "24 days     11\n",
              "28 days      8\n",
              "26 days      5\n",
              "27 days      4\n",
              "31 days      3\n",
              "37 days      2\n",
              "16 days      1\n",
              "Name: ProcessingDate, dtype: int64"
            ]
          },
          "execution_count": 16,
          "metadata": {},
          "output_type": "execute_result"
        }
      ],
      "source": [
        "# Check Data Anomalies in ProcessingDate columns\n",
        "\n",
        "tabel1['ProcessingDate'].value_counts()"
      ]
    },
    {
      "cell_type": "code",
      "execution_count": 17,
      "metadata": {},
      "outputs": [
        {
          "data": {
            "text/plain": [
              "True     1990\n",
              "False      92\n",
              "Name: OnTimeShipped, dtype: int64"
            ]
          },
          "execution_count": 17,
          "metadata": {},
          "output_type": "execute_result"
        }
      ],
      "source": [
        "# Check Data Anomalies in OnTimeShipped columns\n",
        "\n",
        "tabel1['OnTimeShipped'].value_counts()"
      ]
    },
    {
      "cell_type": "markdown",
      "metadata": {},
      "source": [
        "# **Insight Date Time Format**\n",
        "**```Insight apakah yang dapat diambil berdasarkan data date time yang telah diolah sebelumnya?```**"
      ]
    },
    {
      "cell_type": "code",
      "execution_count": 18,
      "metadata": {},
      "outputs": [
        {
          "data": {
            "text/plain": [
              "Timedelta('8 days 08:17:17.463976945')"
            ]
          },
          "execution_count": 18,
          "metadata": {},
          "output_type": "execute_result"
        }
      ],
      "source": [
        "#Rata-rata waktu proses pengiriman\n",
        "tabel1['ProcessingDate'].mean()"
      ]
    },
    {
      "cell_type": "code",
      "execution_count": 19,
      "metadata": {},
      "outputs": [
        {
          "data": {
            "text/plain": [
              "95.58117195004803"
            ]
          },
          "execution_count": 19,
          "metadata": {},
          "output_type": "execute_result"
        }
      ],
      "source": [
        "#Persentase pengiriman yang tepat waktu\n",
        "tabel1['OnTimeShipped'][tabel1['OnTimeShipped'] == True].count()/len(tabel1['OnTimeShipped'])*100"
      ]
    },
    {
      "cell_type": "markdown",
      "metadata": {},
      "source": [
        "Rata-rata waktu barang diproses dari barang diorder hingga barang sampai kepada customer adalah: ```8 hari``` dan persentase pengiriman yang tepat waktu sebesar 95%."
      ]
    },
    {
      "cell_type": "markdown",
      "metadata": {},
      "source": [
        "## **Feature 'Income'**\n",
        "\n",
        "**```Berdasarkan data harga produk dan kuantitas produk yang dibeli serta diskon, berapakah jumlah pemasukan yang didapatkan dari penjualan yang dilakukan?```**\n",
        "\n",
        "Pada data, terdapat fiture Quantity (Jumlah produk yang dibeli), UnitPrice (Harga produk), dan Discount (Jumlah discount yang diberikan). Berdasarkan 3 data tersebut, dapat ditemukan jumlah total pemasukan yang didapatkan dengan mengkalikan harga unit dengan jumlah pembelian lalu dikurangi dengan discount yang diberikan."
      ]
    },
    {
      "cell_type": "code",
      "execution_count": 20,
      "metadata": {},
      "outputs": [
        {
          "data": {
            "text/html": [
              "<div>\n",
              "<style scoped>\n",
              "    .dataframe tbody tr th:only-of-type {\n",
              "        vertical-align: middle;\n",
              "    }\n",
              "\n",
              "    .dataframe tbody tr th {\n",
              "        vertical-align: top;\n",
              "    }\n",
              "\n",
              "    .dataframe thead th {\n",
              "        text-align: right;\n",
              "    }\n",
              "</style>\n",
              "<table border=\"1\" class=\"dataframe\">\n",
              "  <thead>\n",
              "    <tr style=\"text-align: right;\">\n",
              "      <th></th>\n",
              "      <th>CustomerID</th>\n",
              "      <th>CompanyName</th>\n",
              "      <th>ContactTitle</th>\n",
              "      <th>City</th>\n",
              "      <th>Country</th>\n",
              "      <th>orderID</th>\n",
              "      <th>OrderDate</th>\n",
              "      <th>RequiredDate</th>\n",
              "      <th>ShippedDate</th>\n",
              "      <th>shipVia</th>\n",
              "      <th>ShipCity</th>\n",
              "      <th>ShipCountry</th>\n",
              "      <th>Quantity</th>\n",
              "      <th>UnitPrice</th>\n",
              "      <th>Discount</th>\n",
              "      <th>ProductName</th>\n",
              "      <th>ProcessingDate</th>\n",
              "      <th>OnTimeShipped</th>\n",
              "      <th>Income</th>\n",
              "    </tr>\n",
              "  </thead>\n",
              "  <tbody>\n",
              "    <tr>\n",
              "      <th>0</th>\n",
              "      <td>ALFKI</td>\n",
              "      <td>Alfreds Futterkiste</td>\n",
              "      <td>Sales Representative</td>\n",
              "      <td>Berlin</td>\n",
              "      <td>Germany</td>\n",
              "      <td>10643</td>\n",
              "      <td>1995-09-25</td>\n",
              "      <td>1995-10-23</td>\n",
              "      <td>1995-10-03</td>\n",
              "      <td>Speedy Express</td>\n",
              "      <td>Berlin</td>\n",
              "      <td>Germany</td>\n",
              "      <td>15.0</td>\n",
              "      <td>45.60</td>\n",
              "      <td>0.25</td>\n",
              "      <td>R├Âssle Sauerkraut</td>\n",
              "      <td>8 days</td>\n",
              "      <td>True</td>\n",
              "      <td>513.0</td>\n",
              "    </tr>\n",
              "    <tr>\n",
              "      <th>1</th>\n",
              "      <td>ALFKI</td>\n",
              "      <td>Alfreds Futterkiste</td>\n",
              "      <td>Sales Representative</td>\n",
              "      <td>Berlin</td>\n",
              "      <td>Germany</td>\n",
              "      <td>10643</td>\n",
              "      <td>1995-09-25</td>\n",
              "      <td>1995-10-23</td>\n",
              "      <td>1995-10-03</td>\n",
              "      <td>Speedy Express</td>\n",
              "      <td>Berlin</td>\n",
              "      <td>Germany</td>\n",
              "      <td>21.0</td>\n",
              "      <td>18.00</td>\n",
              "      <td>0.25</td>\n",
              "      <td>Chartreuse verte</td>\n",
              "      <td>8 days</td>\n",
              "      <td>True</td>\n",
              "      <td>283.5</td>\n",
              "    </tr>\n",
              "    <tr>\n",
              "      <th>2</th>\n",
              "      <td>ALFKI</td>\n",
              "      <td>Alfreds Futterkiste</td>\n",
              "      <td>Sales Representative</td>\n",
              "      <td>Berlin</td>\n",
              "      <td>Germany</td>\n",
              "      <td>10643</td>\n",
              "      <td>1995-09-25</td>\n",
              "      <td>1995-10-23</td>\n",
              "      <td>1995-10-03</td>\n",
              "      <td>Speedy Express</td>\n",
              "      <td>Berlin</td>\n",
              "      <td>Germany</td>\n",
              "      <td>2.0</td>\n",
              "      <td>12.00</td>\n",
              "      <td>0.25</td>\n",
              "      <td>Spegesild</td>\n",
              "      <td>8 days</td>\n",
              "      <td>True</td>\n",
              "      <td>18.0</td>\n",
              "    </tr>\n",
              "    <tr>\n",
              "      <th>3</th>\n",
              "      <td>ALFKI</td>\n",
              "      <td>Alfreds Futterkiste</td>\n",
              "      <td>Sales Representative</td>\n",
              "      <td>Berlin</td>\n",
              "      <td>Germany</td>\n",
              "      <td>10692</td>\n",
              "      <td>1995-11-03</td>\n",
              "      <td>1995-12-01</td>\n",
              "      <td>1995-11-13</td>\n",
              "      <td>United Package</td>\n",
              "      <td>Berlin</td>\n",
              "      <td>Germany</td>\n",
              "      <td>20.0</td>\n",
              "      <td>43.90</td>\n",
              "      <td>0.00</td>\n",
              "      <td>Vegie-spread</td>\n",
              "      <td>10 days</td>\n",
              "      <td>True</td>\n",
              "      <td>878.0</td>\n",
              "    </tr>\n",
              "    <tr>\n",
              "      <th>4</th>\n",
              "      <td>ALFKI</td>\n",
              "      <td>Alfreds Futterkiste</td>\n",
              "      <td>Sales Representative</td>\n",
              "      <td>Berlin</td>\n",
              "      <td>Germany</td>\n",
              "      <td>10702</td>\n",
              "      <td>1995-11-13</td>\n",
              "      <td>1995-12-25</td>\n",
              "      <td>1995-11-21</td>\n",
              "      <td>Speedy Express</td>\n",
              "      <td>Berlin</td>\n",
              "      <td>Germany</td>\n",
              "      <td>6.0</td>\n",
              "      <td>10.00</td>\n",
              "      <td>0.00</td>\n",
              "      <td>Aniseed Syrup</td>\n",
              "      <td>8 days</td>\n",
              "      <td>True</td>\n",
              "      <td>60.0</td>\n",
              "    </tr>\n",
              "    <tr>\n",
              "      <th>...</th>\n",
              "      <td>...</td>\n",
              "      <td>...</td>\n",
              "      <td>...</td>\n",
              "      <td>...</td>\n",
              "      <td>...</td>\n",
              "      <td>...</td>\n",
              "      <td>...</td>\n",
              "      <td>...</td>\n",
              "      <td>...</td>\n",
              "      <td>...</td>\n",
              "      <td>...</td>\n",
              "      <td>...</td>\n",
              "      <td>...</td>\n",
              "      <td>...</td>\n",
              "      <td>...</td>\n",
              "      <td>...</td>\n",
              "      <td>...</td>\n",
              "      <td>...</td>\n",
              "      <td>...</td>\n",
              "    </tr>\n",
              "    <tr>\n",
              "      <th>2152</th>\n",
              "      <td>WOLZA</td>\n",
              "      <td>Wolski  Zajazd</td>\n",
              "      <td>Owner</td>\n",
              "      <td>Warszawa</td>\n",
              "      <td>Poland</td>\n",
              "      <td>10998</td>\n",
              "      <td>1996-05-03</td>\n",
              "      <td>1996-05-17</td>\n",
              "      <td>1996-05-17</td>\n",
              "      <td>United Package</td>\n",
              "      <td>Warszawa</td>\n",
              "      <td>Poland</td>\n",
              "      <td>12.0</td>\n",
              "      <td>4.50</td>\n",
              "      <td>0.00</td>\n",
              "      <td>Guaran├í Fant├ística</td>\n",
              "      <td>14 days</td>\n",
              "      <td>True</td>\n",
              "      <td>54.0</td>\n",
              "    </tr>\n",
              "    <tr>\n",
              "      <th>2153</th>\n",
              "      <td>WOLZA</td>\n",
              "      <td>Wolski  Zajazd</td>\n",
              "      <td>Owner</td>\n",
              "      <td>Warszawa</td>\n",
              "      <td>Poland</td>\n",
              "      <td>10998</td>\n",
              "      <td>1996-05-03</td>\n",
              "      <td>1996-05-17</td>\n",
              "      <td>1996-05-17</td>\n",
              "      <td>United Package</td>\n",
              "      <td>Warszawa</td>\n",
              "      <td>Poland</td>\n",
              "      <td>7.0</td>\n",
              "      <td>28.50</td>\n",
              "      <td>0.00</td>\n",
              "      <td>Sirop d'├®rable</td>\n",
              "      <td>14 days</td>\n",
              "      <td>True</td>\n",
              "      <td>199.5</td>\n",
              "    </tr>\n",
              "    <tr>\n",
              "      <th>2154</th>\n",
              "      <td>WOLZA</td>\n",
              "      <td>Wolski  Zajazd</td>\n",
              "      <td>Owner</td>\n",
              "      <td>Warszawa</td>\n",
              "      <td>Poland</td>\n",
              "      <td>10998</td>\n",
              "      <td>1996-05-03</td>\n",
              "      <td>1996-05-17</td>\n",
              "      <td>1996-05-17</td>\n",
              "      <td>United Package</td>\n",
              "      <td>Warszawa</td>\n",
              "      <td>Poland</td>\n",
              "      <td>20.0</td>\n",
              "      <td>10.00</td>\n",
              "      <td>0.00</td>\n",
              "      <td>Longlife Tofu</td>\n",
              "      <td>14 days</td>\n",
              "      <td>True</td>\n",
              "      <td>200.0</td>\n",
              "    </tr>\n",
              "    <tr>\n",
              "      <th>2155</th>\n",
              "      <td>WOLZA</td>\n",
              "      <td>Wolski  Zajazd</td>\n",
              "      <td>Owner</td>\n",
              "      <td>Warszawa</td>\n",
              "      <td>Poland</td>\n",
              "      <td>10998</td>\n",
              "      <td>1996-05-03</td>\n",
              "      <td>1996-05-17</td>\n",
              "      <td>1996-05-17</td>\n",
              "      <td>United Package</td>\n",
              "      <td>Warszawa</td>\n",
              "      <td>Poland</td>\n",
              "      <td>30.0</td>\n",
              "      <td>7.75</td>\n",
              "      <td>0.00</td>\n",
              "      <td>Rh├Ânbr├ñu Klosterbier</td>\n",
              "      <td>14 days</td>\n",
              "      <td>True</td>\n",
              "      <td>232.5</td>\n",
              "    </tr>\n",
              "    <tr>\n",
              "      <th>2156</th>\n",
              "      <td>WOLZA</td>\n",
              "      <td>Wolski  Zajazd</td>\n",
              "      <td>Owner</td>\n",
              "      <td>Warszawa</td>\n",
              "      <td>Poland</td>\n",
              "      <td>11044</td>\n",
              "      <td>1996-05-23</td>\n",
              "      <td>1996-06-20</td>\n",
              "      <td>1996-05-31</td>\n",
              "      <td>Speedy Express</td>\n",
              "      <td>Warszawa</td>\n",
              "      <td>Poland</td>\n",
              "      <td>12.0</td>\n",
              "      <td>49.30</td>\n",
              "      <td>0.00</td>\n",
              "      <td>Tarte au sucre</td>\n",
              "      <td>8 days</td>\n",
              "      <td>True</td>\n",
              "      <td>591.6</td>\n",
              "    </tr>\n",
              "  </tbody>\n",
              "</table>\n",
              "<p>2082 rows × 19 columns</p>\n",
              "</div>"
            ],
            "text/plain": [
              "     CustomerID          CompanyName          ContactTitle      City  Country  \\\n",
              "0         ALFKI  Alfreds Futterkiste  Sales Representative    Berlin  Germany   \n",
              "1         ALFKI  Alfreds Futterkiste  Sales Representative    Berlin  Germany   \n",
              "2         ALFKI  Alfreds Futterkiste  Sales Representative    Berlin  Germany   \n",
              "3         ALFKI  Alfreds Futterkiste  Sales Representative    Berlin  Germany   \n",
              "4         ALFKI  Alfreds Futterkiste  Sales Representative    Berlin  Germany   \n",
              "...         ...                  ...                   ...       ...      ...   \n",
              "2152      WOLZA       Wolski  Zajazd                 Owner  Warszawa   Poland   \n",
              "2153      WOLZA       Wolski  Zajazd                 Owner  Warszawa   Poland   \n",
              "2154      WOLZA       Wolski  Zajazd                 Owner  Warszawa   Poland   \n",
              "2155      WOLZA       Wolski  Zajazd                 Owner  Warszawa   Poland   \n",
              "2156      WOLZA       Wolski  Zajazd                 Owner  Warszawa   Poland   \n",
              "\n",
              "      orderID  OrderDate RequiredDate ShippedDate         shipVia  ShipCity  \\\n",
              "0       10643 1995-09-25   1995-10-23  1995-10-03  Speedy Express    Berlin   \n",
              "1       10643 1995-09-25   1995-10-23  1995-10-03  Speedy Express    Berlin   \n",
              "2       10643 1995-09-25   1995-10-23  1995-10-03  Speedy Express    Berlin   \n",
              "3       10692 1995-11-03   1995-12-01  1995-11-13  United Package    Berlin   \n",
              "4       10702 1995-11-13   1995-12-25  1995-11-21  Speedy Express    Berlin   \n",
              "...       ...        ...          ...         ...             ...       ...   \n",
              "2152    10998 1996-05-03   1996-05-17  1996-05-17  United Package  Warszawa   \n",
              "2153    10998 1996-05-03   1996-05-17  1996-05-17  United Package  Warszawa   \n",
              "2154    10998 1996-05-03   1996-05-17  1996-05-17  United Package  Warszawa   \n",
              "2155    10998 1996-05-03   1996-05-17  1996-05-17  United Package  Warszawa   \n",
              "2156    11044 1996-05-23   1996-06-20  1996-05-31  Speedy Express  Warszawa   \n",
              "\n",
              "     ShipCountry  Quantity  UnitPrice  Discount             ProductName  \\\n",
              "0        Germany      15.0      45.60      0.25      R├Âssle Sauerkraut   \n",
              "1        Germany      21.0      18.00      0.25        Chartreuse verte   \n",
              "2        Germany       2.0      12.00      0.25               Spegesild   \n",
              "3        Germany      20.0      43.90      0.00            Vegie-spread   \n",
              "4        Germany       6.0      10.00      0.00           Aniseed Syrup   \n",
              "...          ...       ...        ...       ...                     ...   \n",
              "2152      Poland      12.0       4.50      0.00    Guaran├í Fant├ística   \n",
              "2153      Poland       7.0      28.50      0.00         Sirop d'├®rable   \n",
              "2154      Poland      20.0      10.00      0.00           Longlife Tofu   \n",
              "2155      Poland      30.0       7.75      0.00  Rh├Ânbr├ñu Klosterbier   \n",
              "2156      Poland      12.0      49.30      0.00          Tarte au sucre   \n",
              "\n",
              "     ProcessingDate  OnTimeShipped  Income  \n",
              "0            8 days           True   513.0  \n",
              "1            8 days           True   283.5  \n",
              "2            8 days           True    18.0  \n",
              "3           10 days           True   878.0  \n",
              "4            8 days           True    60.0  \n",
              "...             ...            ...     ...  \n",
              "2152        14 days           True    54.0  \n",
              "2153        14 days           True   199.5  \n",
              "2154        14 days           True   200.0  \n",
              "2155        14 days           True   232.5  \n",
              "2156         8 days           True   591.6  \n",
              "\n",
              "[2082 rows x 19 columns]"
            ]
          },
          "execution_count": 20,
          "metadata": {},
          "output_type": "execute_result"
        }
      ],
      "source": [
        "tabel1['Income'] = (tabel1['UnitPrice'] * tabel1['Quantity']) - (tabel1['UnitPrice'] * tabel1['Quantity'] * tabel1['Discount'])\n",
        "tabel1"
      ]
    },
    {
      "cell_type": "markdown",
      "metadata": {
        "id": "3XJ_sB01DSre"
      },
      "source": [
        "## **Preview Cleaned Data**\n",
        "\n",
        "Setelah semua anomalies sudah diselesaikan, artinya data yang dimiliki sudah bersih. Di bawah ini adalah sample data yang dianggap sudah bersih setelah melewati proses-proses sebelumnya."
      ]
    },
    {
      "cell_type": "code",
      "execution_count": 21,
      "metadata": {
        "id": "tjTLpaM1DSre",
        "outputId": "821f76db-623e-4f30-ee61-9ab4a41fba36"
      },
      "outputs": [
        {
          "data": {
            "text/html": [
              "<div>\n",
              "<style scoped>\n",
              "    .dataframe tbody tr th:only-of-type {\n",
              "        vertical-align: middle;\n",
              "    }\n",
              "\n",
              "    .dataframe tbody tr th {\n",
              "        vertical-align: top;\n",
              "    }\n",
              "\n",
              "    .dataframe thead th {\n",
              "        text-align: right;\n",
              "    }\n",
              "</style>\n",
              "<table border=\"1\" class=\"dataframe\">\n",
              "  <thead>\n",
              "    <tr style=\"text-align: right;\">\n",
              "      <th></th>\n",
              "      <th>CustomerID</th>\n",
              "      <th>CompanyName</th>\n",
              "      <th>ContactTitle</th>\n",
              "      <th>City</th>\n",
              "      <th>Country</th>\n",
              "      <th>orderID</th>\n",
              "      <th>OrderDate</th>\n",
              "      <th>RequiredDate</th>\n",
              "      <th>ShippedDate</th>\n",
              "      <th>shipVia</th>\n",
              "      <th>ShipCity</th>\n",
              "      <th>ShipCountry</th>\n",
              "      <th>Quantity</th>\n",
              "      <th>UnitPrice</th>\n",
              "      <th>Discount</th>\n",
              "      <th>ProductName</th>\n",
              "      <th>ProcessingDate</th>\n",
              "      <th>OnTimeShipped</th>\n",
              "      <th>Income</th>\n",
              "    </tr>\n",
              "  </thead>\n",
              "  <tbody>\n",
              "    <tr>\n",
              "      <th>1437</th>\n",
              "      <td>QUICK</td>\n",
              "      <td>QUICK-Stop</td>\n",
              "      <td>Accounting Manager</td>\n",
              "      <td>Cunewalde</td>\n",
              "      <td>Germany</td>\n",
              "      <td>11021</td>\n",
              "      <td>1996-05-14</td>\n",
              "      <td>1996-06-11</td>\n",
              "      <td>1996-05-21</td>\n",
              "      <td>Speedy Express</td>\n",
              "      <td>Cunewalde</td>\n",
              "      <td>Germany</td>\n",
              "      <td>11.0</td>\n",
              "      <td>19.00</td>\n",
              "      <td>0.25</td>\n",
              "      <td>Chang</td>\n",
              "      <td>7 days</td>\n",
              "      <td>True</td>\n",
              "      <td>156.75</td>\n",
              "    </tr>\n",
              "    <tr>\n",
              "      <th>68</th>\n",
              "      <td>AROUT</td>\n",
              "      <td>Around the Horn</td>\n",
              "      <td>Sales Representative</td>\n",
              "      <td>London</td>\n",
              "      <td>UK</td>\n",
              "      <td>11016</td>\n",
              "      <td>1996-05-10</td>\n",
              "      <td>1996-06-07</td>\n",
              "      <td>1996-05-13</td>\n",
              "      <td>United Package</td>\n",
              "      <td>Colchester</td>\n",
              "      <td>UK</td>\n",
              "      <td>16.0</td>\n",
              "      <td>19.00</td>\n",
              "      <td>0.00</td>\n",
              "      <td>Inlagd Sill</td>\n",
              "      <td>3 days</td>\n",
              "      <td>True</td>\n",
              "      <td>304.00</td>\n",
              "    </tr>\n",
              "    <tr>\n",
              "      <th>1325</th>\n",
              "      <td>QUEEN</td>\n",
              "      <td>Queen Cozinha</td>\n",
              "      <td>Marketing Assistant</td>\n",
              "      <td>S├úo Paulo</td>\n",
              "      <td>Brazil</td>\n",
              "      <td>10487</td>\n",
              "      <td>1995-04-26</td>\n",
              "      <td>1995-05-24</td>\n",
              "      <td>1995-04-28</td>\n",
              "      <td>United Package</td>\n",
              "      <td>S├úo Paulo</td>\n",
              "      <td>Brazil</td>\n",
              "      <td>5.0</td>\n",
              "      <td>7.30</td>\n",
              "      <td>0.00</td>\n",
              "      <td>Teatime Chocolate Biscuits</td>\n",
              "      <td>2 days</td>\n",
              "      <td>True</td>\n",
              "      <td>36.50</td>\n",
              "    </tr>\n",
              "    <tr>\n",
              "      <th>1813</th>\n",
              "      <td>SPLIR</td>\n",
              "      <td>Split Rail Beer &amp; Ale</td>\n",
              "      <td>Sales Manager</td>\n",
              "      <td>Lander</td>\n",
              "      <td>USA</td>\n",
              "      <td>10756</td>\n",
              "      <td>1995-12-28</td>\n",
              "      <td>1996-01-25</td>\n",
              "      <td>1996-01-02</td>\n",
              "      <td>United Package</td>\n",
              "      <td>Lander</td>\n",
              "      <td>USA</td>\n",
              "      <td>20.0</td>\n",
              "      <td>36.00</td>\n",
              "      <td>0.20</td>\n",
              "      <td>Gudbrandsdalsost</td>\n",
              "      <td>5 days</td>\n",
              "      <td>True</td>\n",
              "      <td>576.00</td>\n",
              "    </tr>\n",
              "    <tr>\n",
              "      <th>38</th>\n",
              "      <td>ANTON</td>\n",
              "      <td>Antonio Moreno Taquer├¡a</td>\n",
              "      <td>Owner</td>\n",
              "      <td>M├®xico D.F.</td>\n",
              "      <td>Mexico</td>\n",
              "      <td>10856</td>\n",
              "      <td>1996-02-28</td>\n",
              "      <td>1996-03-27</td>\n",
              "      <td>1996-03-12</td>\n",
              "      <td>United Package</td>\n",
              "      <td>M├®xico D.F.</td>\n",
              "      <td>Mexico</td>\n",
              "      <td>20.0</td>\n",
              "      <td>14.00</td>\n",
              "      <td>0.00</td>\n",
              "      <td>Singaporean Hokkien Fried Mee</td>\n",
              "      <td>13 days</td>\n",
              "      <td>True</td>\n",
              "      <td>280.00</td>\n",
              "    </tr>\n",
              "    <tr>\n",
              "      <th>1156</th>\n",
              "      <td>MEREP</td>\n",
              "      <td>M├¿re Paillarde</td>\n",
              "      <td>Marketing Assistant</td>\n",
              "      <td>Montr├®al</td>\n",
              "      <td>Canada</td>\n",
              "      <td>10618</td>\n",
              "      <td>1995-09-01</td>\n",
              "      <td>1995-10-13</td>\n",
              "      <td>1995-09-08</td>\n",
              "      <td>Speedy Express</td>\n",
              "      <td>Montr├®al</td>\n",
              "      <td>Canada</td>\n",
              "      <td>70.0</td>\n",
              "      <td>25.00</td>\n",
              "      <td>0.00</td>\n",
              "      <td>Grandma's Boysenberry Spread</td>\n",
              "      <td>7 days</td>\n",
              "      <td>True</td>\n",
              "      <td>1750.00</td>\n",
              "    </tr>\n",
              "    <tr>\n",
              "      <th>367</th>\n",
              "      <td>ERNSH</td>\n",
              "      <td>Ernst Handel</td>\n",
              "      <td>Sales Manager</td>\n",
              "      <td>Graz</td>\n",
              "      <td>Austria</td>\n",
              "      <td>10351</td>\n",
              "      <td>1994-12-12</td>\n",
              "      <td>1995-01-09</td>\n",
              "      <td>1994-12-21</td>\n",
              "      <td>Speedy Express</td>\n",
              "      <td>Graz</td>\n",
              "      <td>Austria</td>\n",
              "      <td>20.0</td>\n",
              "      <td>210.80</td>\n",
              "      <td>0.05</td>\n",
              "      <td>C├┤te de Blaye</td>\n",
              "      <td>9 days</td>\n",
              "      <td>True</td>\n",
              "      <td>4005.20</td>\n",
              "    </tr>\n",
              "    <tr>\n",
              "      <th>1393</th>\n",
              "      <td>QUICK</td>\n",
              "      <td>QUICK-Stop</td>\n",
              "      <td>Accounting Manager</td>\n",
              "      <td>Cunewalde</td>\n",
              "      <td>Germany</td>\n",
              "      <td>10549</td>\n",
              "      <td>1995-06-27</td>\n",
              "      <td>1995-07-11</td>\n",
              "      <td>1995-06-30</td>\n",
              "      <td>Speedy Express</td>\n",
              "      <td>Cunewalde</td>\n",
              "      <td>Germany</td>\n",
              "      <td>48.0</td>\n",
              "      <td>53.00</td>\n",
              "      <td>0.15</td>\n",
              "      <td>Manjimup Dried Apples</td>\n",
              "      <td>3 days</td>\n",
              "      <td>True</td>\n",
              "      <td>2162.40</td>\n",
              "    </tr>\n",
              "    <tr>\n",
              "      <th>1823</th>\n",
              "      <td>SUPRD</td>\n",
              "      <td>Supr├¬mes d├®lices</td>\n",
              "      <td>Accounting Manager</td>\n",
              "      <td>Charleroi</td>\n",
              "      <td>Belgium</td>\n",
              "      <td>10458</td>\n",
              "      <td>1995-03-29</td>\n",
              "      <td>1995-04-26</td>\n",
              "      <td>1995-04-04</td>\n",
              "      <td>Federal Shipping</td>\n",
              "      <td>Charleroi</td>\n",
              "      <td>Belgium</td>\n",
              "      <td>30.0</td>\n",
              "      <td>24.90</td>\n",
              "      <td>0.00</td>\n",
              "      <td>Gumb├ñr Gummib├ñrchen</td>\n",
              "      <td>6 days</td>\n",
              "      <td>True</td>\n",
              "      <td>747.00</td>\n",
              "    </tr>\n",
              "    <tr>\n",
              "      <th>1141</th>\n",
              "      <td>MEREP</td>\n",
              "      <td>M├¿re Paillarde</td>\n",
              "      <td>Marketing Assistant</td>\n",
              "      <td>Montr├®al</td>\n",
              "      <td>Canada</td>\n",
              "      <td>10439</td>\n",
              "      <td>1995-03-10</td>\n",
              "      <td>1995-04-07</td>\n",
              "      <td>1995-03-13</td>\n",
              "      <td>Federal Shipping</td>\n",
              "      <td>Montr├®al</td>\n",
              "      <td>Canada</td>\n",
              "      <td>15.0</td>\n",
              "      <td>30.40</td>\n",
              "      <td>0.00</td>\n",
              "      <td>Queso Manchego La Pastora</td>\n",
              "      <td>3 days</td>\n",
              "      <td>True</td>\n",
              "      <td>456.00</td>\n",
              "    </tr>\n",
              "    <tr>\n",
              "      <th>1342</th>\n",
              "      <td>QUEEN</td>\n",
              "      <td>Queen Cozinha</td>\n",
              "      <td>Marketing Assistant</td>\n",
              "      <td>S├úo Paulo</td>\n",
              "      <td>Brazil</td>\n",
              "      <td>10786</td>\n",
              "      <td>1996-01-19</td>\n",
              "      <td>1996-02-16</td>\n",
              "      <td>1996-01-23</td>\n",
              "      <td>Speedy Express</td>\n",
              "      <td>S├úo Paulo</td>\n",
              "      <td>Brazil</td>\n",
              "      <td>15.0</td>\n",
              "      <td>25.89</td>\n",
              "      <td>0.20</td>\n",
              "      <td>Nord-Ost Matjeshering</td>\n",
              "      <td>4 days</td>\n",
              "      <td>True</td>\n",
              "      <td>310.68</td>\n",
              "    </tr>\n",
              "    <tr>\n",
              "      <th>2140</th>\n",
              "      <td>WILMK</td>\n",
              "      <td>Wilman Kala</td>\n",
              "      <td>Owner/Marketing Assistant</td>\n",
              "      <td>Helsinki</td>\n",
              "      <td>Finland</td>\n",
              "      <td>11005</td>\n",
              "      <td>1996-05-07</td>\n",
              "      <td>1996-06-04</td>\n",
              "      <td>1996-05-10</td>\n",
              "      <td>Speedy Express</td>\n",
              "      <td>Helsinki</td>\n",
              "      <td>Finland</td>\n",
              "      <td>10.0</td>\n",
              "      <td>55.00</td>\n",
              "      <td>0.00</td>\n",
              "      <td>Raclette Courdavault</td>\n",
              "      <td>3 days</td>\n",
              "      <td>True</td>\n",
              "      <td>550.00</td>\n",
              "    </tr>\n",
              "    <tr>\n",
              "      <th>1137</th>\n",
              "      <td>MEREP</td>\n",
              "      <td>M├¿re Paillarde</td>\n",
              "      <td>Marketing Assistant</td>\n",
              "      <td>Montr├®al</td>\n",
              "      <td>Canada</td>\n",
              "      <td>10376</td>\n",
              "      <td>1995-01-09</td>\n",
              "      <td>1995-02-06</td>\n",
              "      <td>1995-01-13</td>\n",
              "      <td>United Package</td>\n",
              "      <td>Montr├®al</td>\n",
              "      <td>Canada</td>\n",
              "      <td>42.0</td>\n",
              "      <td>10.00</td>\n",
              "      <td>0.05</td>\n",
              "      <td>Gorgonzola Telino</td>\n",
              "      <td>4 days</td>\n",
              "      <td>True</td>\n",
              "      <td>399.00</td>\n",
              "    </tr>\n",
              "    <tr>\n",
              "      <th>1295</th>\n",
              "      <td>QUEDE</td>\n",
              "      <td>Que Del├¡cia</td>\n",
              "      <td>Accounting Manager</td>\n",
              "      <td>Rio de Janeiro</td>\n",
              "      <td>Brazil</td>\n",
              "      <td>10291</td>\n",
              "      <td>1994-09-27</td>\n",
              "      <td>1994-10-25</td>\n",
              "      <td>1994-10-05</td>\n",
              "      <td>United Package</td>\n",
              "      <td>Rio de Janeiro</td>\n",
              "      <td>Brazil</td>\n",
              "      <td>24.0</td>\n",
              "      <td>15.50</td>\n",
              "      <td>0.10</td>\n",
              "      <td>Gula Malacca</td>\n",
              "      <td>8 days</td>\n",
              "      <td>True</td>\n",
              "      <td>334.80</td>\n",
              "    </tr>\n",
              "    <tr>\n",
              "      <th>776</th>\n",
              "      <td>HILAA</td>\n",
              "      <td>HILARI├ôN-Abastos</td>\n",
              "      <td>Sales Representative</td>\n",
              "      <td>San Crist├│bal</td>\n",
              "      <td>Venezuela</td>\n",
              "      <td>10960</td>\n",
              "      <td>1996-04-18</td>\n",
              "      <td>1996-05-02</td>\n",
              "      <td>1996-05-08</td>\n",
              "      <td>Speedy Express</td>\n",
              "      <td>San Crist├│bal</td>\n",
              "      <td>Venezuela</td>\n",
              "      <td>10.0</td>\n",
              "      <td>4.50</td>\n",
              "      <td>0.25</td>\n",
              "      <td>Guaran├í Fant├ística</td>\n",
              "      <td>20 days</td>\n",
              "      <td>False</td>\n",
              "      <td>33.75</td>\n",
              "    </tr>\n",
              "    <tr>\n",
              "      <th>1357</th>\n",
              "      <td>QUICK</td>\n",
              "      <td>QUICK-Stop</td>\n",
              "      <td>Accounting Manager</td>\n",
              "      <td>Cunewalde</td>\n",
              "      <td>Germany</td>\n",
              "      <td>10273</td>\n",
              "      <td>1994-09-05</td>\n",
              "      <td>1994-10-03</td>\n",
              "      <td>1994-09-12</td>\n",
              "      <td>Federal Shipping</td>\n",
              "      <td>Cunewalde</td>\n",
              "      <td>Germany</td>\n",
              "      <td>15.0</td>\n",
              "      <td>10.00</td>\n",
              "      <td>0.05</td>\n",
              "      <td>Gorgonzola Telino</td>\n",
              "      <td>7 days</td>\n",
              "      <td>True</td>\n",
              "      <td>142.50</td>\n",
              "    </tr>\n",
              "    <tr>\n",
              "      <th>1667</th>\n",
              "      <td>SAVEA</td>\n",
              "      <td>Save-a-lot Markets</td>\n",
              "      <td>Sales Representative</td>\n",
              "      <td>Boise</td>\n",
              "      <td>USA</td>\n",
              "      <td>10612</td>\n",
              "      <td>1995-08-28</td>\n",
              "      <td>1995-09-25</td>\n",
              "      <td>1995-09-01</td>\n",
              "      <td>United Package</td>\n",
              "      <td>Boise</td>\n",
              "      <td>USA</td>\n",
              "      <td>55.0</td>\n",
              "      <td>19.00</td>\n",
              "      <td>0.00</td>\n",
              "      <td>Inlagd Sill</td>\n",
              "      <td>4 days</td>\n",
              "      <td>True</td>\n",
              "      <td>1045.00</td>\n",
              "    </tr>\n",
              "    <tr>\n",
              "      <th>1964</th>\n",
              "      <td>VAFFE</td>\n",
              "      <td>Vaffeljernet</td>\n",
              "      <td>Sales Manager</td>\n",
              "      <td>├àrhus</td>\n",
              "      <td>Denmark</td>\n",
              "      <td>10946</td>\n",
              "      <td>1996-04-11</td>\n",
              "      <td>1996-05-09</td>\n",
              "      <td>1996-04-18</td>\n",
              "      <td>United Package</td>\n",
              "      <td>├àrhus</td>\n",
              "      <td>Denmark</td>\n",
              "      <td>25.0</td>\n",
              "      <td>4.50</td>\n",
              "      <td>0.00</td>\n",
              "      <td>Guaran├í Fant├ística</td>\n",
              "      <td>7 days</td>\n",
              "      <td>True</td>\n",
              "      <td>112.50</td>\n",
              "    </tr>\n",
              "    <tr>\n",
              "      <th>921</th>\n",
              "      <td>LAMAI</td>\n",
              "      <td>La maison d'Asie</td>\n",
              "      <td>Sales Manager</td>\n",
              "      <td>Toulouse</td>\n",
              "      <td>France</td>\n",
              "      <td>10350</td>\n",
              "      <td>1994-12-12</td>\n",
              "      <td>1995-01-09</td>\n",
              "      <td>1995-01-03</td>\n",
              "      <td>United Package</td>\n",
              "      <td>Toulouse</td>\n",
              "      <td>France</td>\n",
              "      <td>18.0</td>\n",
              "      <td>28.80</td>\n",
              "      <td>0.10</td>\n",
              "      <td>Gudbrandsdalsost</td>\n",
              "      <td>22 days</td>\n",
              "      <td>True</td>\n",
              "      <td>466.56</td>\n",
              "    </tr>\n",
              "    <tr>\n",
              "      <th>680</th>\n",
              "      <td>GREAL</td>\n",
              "      <td>Great Lakes Food Market</td>\n",
              "      <td>Marketing Manager</td>\n",
              "      <td>Eugene</td>\n",
              "      <td>USA</td>\n",
              "      <td>10528</td>\n",
              "      <td>1995-06-06</td>\n",
              "      <td>1995-06-20</td>\n",
              "      <td>1995-06-09</td>\n",
              "      <td>United Package</td>\n",
              "      <td>Eugene</td>\n",
              "      <td>USA</td>\n",
              "      <td>3.0</td>\n",
              "      <td>21.00</td>\n",
              "      <td>0.00</td>\n",
              "      <td>Queso Cabrales</td>\n",
              "      <td>3 days</td>\n",
              "      <td>True</td>\n",
              "      <td>63.00</td>\n",
              "    </tr>\n",
              "  </tbody>\n",
              "</table>\n",
              "</div>"
            ],
            "text/plain": [
              "     CustomerID               CompanyName               ContactTitle  \\\n",
              "1437      QUICK                QUICK-Stop         Accounting Manager   \n",
              "68        AROUT           Around the Horn       Sales Representative   \n",
              "1325      QUEEN             Queen Cozinha        Marketing Assistant   \n",
              "1813      SPLIR     Split Rail Beer & Ale              Sales Manager   \n",
              "38        ANTON  Antonio Moreno Taquer├¡a                      Owner   \n",
              "1156      MEREP           M├¿re Paillarde        Marketing Assistant   \n",
              "367       ERNSH              Ernst Handel              Sales Manager   \n",
              "1393      QUICK                QUICK-Stop         Accounting Manager   \n",
              "1823      SUPRD        Supr├¬mes d├®lices         Accounting Manager   \n",
              "1141      MEREP           M├¿re Paillarde        Marketing Assistant   \n",
              "1342      QUEEN             Queen Cozinha        Marketing Assistant   \n",
              "2140      WILMK               Wilman Kala  Owner/Marketing Assistant   \n",
              "1137      MEREP           M├¿re Paillarde        Marketing Assistant   \n",
              "1295      QUEDE              Que Del├¡cia         Accounting Manager   \n",
              "776       HILAA         HILARI├ôN-Abastos       Sales Representative   \n",
              "1357      QUICK                QUICK-Stop         Accounting Manager   \n",
              "1667      SAVEA        Save-a-lot Markets       Sales Representative   \n",
              "1964      VAFFE              Vaffeljernet              Sales Manager   \n",
              "921       LAMAI          La maison d'Asie              Sales Manager   \n",
              "680       GREAL   Great Lakes Food Market          Marketing Manager   \n",
              "\n",
              "                City    Country  orderID  OrderDate RequiredDate ShippedDate  \\\n",
              "1437       Cunewalde    Germany    11021 1996-05-14   1996-06-11  1996-05-21   \n",
              "68            London         UK    11016 1996-05-10   1996-06-07  1996-05-13   \n",
              "1325      S├úo Paulo     Brazil    10487 1995-04-26   1995-05-24  1995-04-28   \n",
              "1813          Lander        USA    10756 1995-12-28   1996-01-25  1996-01-02   \n",
              "38      M├®xico D.F.     Mexico    10856 1996-02-28   1996-03-27  1996-03-12   \n",
              "1156       Montr├®al     Canada    10618 1995-09-01   1995-10-13  1995-09-08   \n",
              "367             Graz    Austria    10351 1994-12-12   1995-01-09  1994-12-21   \n",
              "1393       Cunewalde    Germany    10549 1995-06-27   1995-07-11  1995-06-30   \n",
              "1823       Charleroi    Belgium    10458 1995-03-29   1995-04-26  1995-04-04   \n",
              "1141       Montr├®al     Canada    10439 1995-03-10   1995-04-07  1995-03-13   \n",
              "1342      S├úo Paulo     Brazil    10786 1996-01-19   1996-02-16  1996-01-23   \n",
              "2140        Helsinki    Finland    11005 1996-05-07   1996-06-04  1996-05-10   \n",
              "1137       Montr├®al     Canada    10376 1995-01-09   1995-02-06  1995-01-13   \n",
              "1295  Rio de Janeiro     Brazil    10291 1994-09-27   1994-10-25  1994-10-05   \n",
              "776   San Crist├│bal  Venezuela    10960 1996-04-18   1996-05-02  1996-05-08   \n",
              "1357       Cunewalde    Germany    10273 1994-09-05   1994-10-03  1994-09-12   \n",
              "1667           Boise        USA    10612 1995-08-28   1995-09-25  1995-09-01   \n",
              "1964          ├àrhus    Denmark    10946 1996-04-11   1996-05-09  1996-04-18   \n",
              "921         Toulouse     France    10350 1994-12-12   1995-01-09  1995-01-03   \n",
              "680           Eugene        USA    10528 1995-06-06   1995-06-20  1995-06-09   \n",
              "\n",
              "               shipVia        ShipCity ShipCountry  Quantity  UnitPrice  \\\n",
              "1437    Speedy Express       Cunewalde     Germany      11.0      19.00   \n",
              "68      United Package      Colchester          UK      16.0      19.00   \n",
              "1325    United Package      S├úo Paulo      Brazil       5.0       7.30   \n",
              "1813    United Package          Lander         USA      20.0      36.00   \n",
              "38      United Package    M├®xico D.F.      Mexico      20.0      14.00   \n",
              "1156    Speedy Express       Montr├®al      Canada      70.0      25.00   \n",
              "367     Speedy Express            Graz     Austria      20.0     210.80   \n",
              "1393    Speedy Express       Cunewalde     Germany      48.0      53.00   \n",
              "1823  Federal Shipping       Charleroi     Belgium      30.0      24.90   \n",
              "1141  Federal Shipping       Montr├®al      Canada      15.0      30.40   \n",
              "1342    Speedy Express      S├úo Paulo      Brazil      15.0      25.89   \n",
              "2140    Speedy Express        Helsinki     Finland      10.0      55.00   \n",
              "1137    United Package       Montr├®al      Canada      42.0      10.00   \n",
              "1295    United Package  Rio de Janeiro      Brazil      24.0      15.50   \n",
              "776     Speedy Express  San Crist├│bal   Venezuela      10.0       4.50   \n",
              "1357  Federal Shipping       Cunewalde     Germany      15.0      10.00   \n",
              "1667    United Package           Boise         USA      55.0      19.00   \n",
              "1964    United Package          ├àrhus     Denmark      25.0       4.50   \n",
              "921     United Package        Toulouse      France      18.0      28.80   \n",
              "680     United Package          Eugene         USA       3.0      21.00   \n",
              "\n",
              "      Discount                    ProductName ProcessingDate  OnTimeShipped  \\\n",
              "1437      0.25                          Chang         7 days           True   \n",
              "68        0.00                    Inlagd Sill         3 days           True   \n",
              "1325      0.00     Teatime Chocolate Biscuits         2 days           True   \n",
              "1813      0.20               Gudbrandsdalsost         5 days           True   \n",
              "38        0.00  Singaporean Hokkien Fried Mee        13 days           True   \n",
              "1156      0.00   Grandma's Boysenberry Spread         7 days           True   \n",
              "367       0.05                 C├┤te de Blaye         9 days           True   \n",
              "1393      0.15          Manjimup Dried Apples         3 days           True   \n",
              "1823      0.00          Gumb├ñr Gummib├ñrchen         6 days           True   \n",
              "1141      0.00      Queso Manchego La Pastora         3 days           True   \n",
              "1342      0.20          Nord-Ost Matjeshering         4 days           True   \n",
              "2140      0.00           Raclette Courdavault         3 days           True   \n",
              "1137      0.05              Gorgonzola Telino         4 days           True   \n",
              "1295      0.10                   Gula Malacca         8 days           True   \n",
              "776       0.25           Guaran├í Fant├ística        20 days          False   \n",
              "1357      0.05              Gorgonzola Telino         7 days           True   \n",
              "1667      0.00                    Inlagd Sill         4 days           True   \n",
              "1964      0.00           Guaran├í Fant├ística         7 days           True   \n",
              "921       0.10               Gudbrandsdalsost        22 days           True   \n",
              "680       0.00                 Queso Cabrales         3 days           True   \n",
              "\n",
              "       Income  \n",
              "1437   156.75  \n",
              "68     304.00  \n",
              "1325    36.50  \n",
              "1813   576.00  \n",
              "38     280.00  \n",
              "1156  1750.00  \n",
              "367   4005.20  \n",
              "1393  2162.40  \n",
              "1823   747.00  \n",
              "1141   456.00  \n",
              "1342   310.68  \n",
              "2140   550.00  \n",
              "1137   399.00  \n",
              "1295   334.80  \n",
              "776     33.75  \n",
              "1357   142.50  \n",
              "1667  1045.00  \n",
              "1964   112.50  \n",
              "921    466.56  \n",
              "680     63.00  "
            ]
          },
          "execution_count": 21,
          "metadata": {},
          "output_type": "execute_result"
        }
      ],
      "source": [
        "# Clean Data\n",
        "\n",
        "tabel1.sample(20)"
      ]
    },
    {
      "cell_type": "markdown",
      "metadata": {
        "id": "Sc5EFW4YDSrf"
      },
      "source": [
        "## **General Info Cleaned Data**"
      ]
    },
    {
      "cell_type": "code",
      "execution_count": 22,
      "metadata": {
        "id": "EHmtletgDSrf",
        "outputId": "acb6b76a-4633-4450-c1cb-9bb617d4be2e"
      },
      "outputs": [
        {
          "data": {
            "text/html": [
              "<div>\n",
              "<style scoped>\n",
              "    .dataframe tbody tr th:only-of-type {\n",
              "        vertical-align: middle;\n",
              "    }\n",
              "\n",
              "    .dataframe tbody tr th {\n",
              "        vertical-align: top;\n",
              "    }\n",
              "\n",
              "    .dataframe thead th {\n",
              "        text-align: right;\n",
              "    }\n",
              "</style>\n",
              "<table border=\"1\" class=\"dataframe\">\n",
              "  <thead>\n",
              "    <tr style=\"text-align: right;\">\n",
              "      <th></th>\n",
              "      <th>Column Name</th>\n",
              "      <th>Data Type</th>\n",
              "      <th>Data Count</th>\n",
              "      <th>Missing Value</th>\n",
              "      <th>Missing Value Percentage</th>\n",
              "      <th>Number of Unique</th>\n",
              "      <th>Unique Sample</th>\n",
              "    </tr>\n",
              "  </thead>\n",
              "  <tbody>\n",
              "    <tr>\n",
              "      <th>0</th>\n",
              "      <td>CustomerID</td>\n",
              "      <td>object</td>\n",
              "      <td>2082</td>\n",
              "      <td>0</td>\n",
              "      <td>0.0</td>\n",
              "      <td>89</td>\n",
              "      <td>[LETSS, SUPRD]</td>\n",
              "    </tr>\n",
              "    <tr>\n",
              "      <th>1</th>\n",
              "      <td>CompanyName</td>\n",
              "      <td>object</td>\n",
              "      <td>2082</td>\n",
              "      <td>0</td>\n",
              "      <td>0.0</td>\n",
              "      <td>89</td>\n",
              "      <td>[Supr├¬mes d├®lices, Que Del├¡cia]</td>\n",
              "    </tr>\n",
              "    <tr>\n",
              "      <th>2</th>\n",
              "      <td>ContactTitle</td>\n",
              "      <td>object</td>\n",
              "      <td>2082</td>\n",
              "      <td>0</td>\n",
              "      <td>0.0</td>\n",
              "      <td>12</td>\n",
              "      <td>[Order Administrator, Assistant Sales Represen...</td>\n",
              "    </tr>\n",
              "    <tr>\n",
              "      <th>3</th>\n",
              "      <td>City</td>\n",
              "      <td>object</td>\n",
              "      <td>2082</td>\n",
              "      <td>0</td>\n",
              "      <td>0.0</td>\n",
              "      <td>69</td>\n",
              "      <td>[Reims, Caracas]</td>\n",
              "    </tr>\n",
              "    <tr>\n",
              "      <th>4</th>\n",
              "      <td>Country</td>\n",
              "      <td>object</td>\n",
              "      <td>2082</td>\n",
              "      <td>0</td>\n",
              "      <td>0.0</td>\n",
              "      <td>21</td>\n",
              "      <td>[France, Germany]</td>\n",
              "    </tr>\n",
              "    <tr>\n",
              "      <th>5</th>\n",
              "      <td>orderID</td>\n",
              "      <td>int16</td>\n",
              "      <td>2082</td>\n",
              "      <td>0</td>\n",
              "      <td>0.0</td>\n",
              "      <td>809</td>\n",
              "      <td>[11034, 11041]</td>\n",
              "    </tr>\n",
              "    <tr>\n",
              "      <th>6</th>\n",
              "      <td>OrderDate</td>\n",
              "      <td>datetime64[ns]</td>\n",
              "      <td>2082</td>\n",
              "      <td>0</td>\n",
              "      <td>0.0</td>\n",
              "      <td>478</td>\n",
              "      <td>[1995-02-28T00:00:00.000000000, 1995-10-12T00:...</td>\n",
              "    </tr>\n",
              "    <tr>\n",
              "      <th>7</th>\n",
              "      <td>RequiredDate</td>\n",
              "      <td>datetime64[ns]</td>\n",
              "      <td>2082</td>\n",
              "      <td>0</td>\n",
              "      <td>0.0</td>\n",
              "      <td>450</td>\n",
              "      <td>[1994-09-08T00:00:00.000000000, 1996-04-26T00:...</td>\n",
              "    </tr>\n",
              "    <tr>\n",
              "      <th>8</th>\n",
              "      <td>ShippedDate</td>\n",
              "      <td>datetime64[ns]</td>\n",
              "      <td>2082</td>\n",
              "      <td>0</td>\n",
              "      <td>0.0</td>\n",
              "      <td>387</td>\n",
              "      <td>[1995-05-26T00:00:00.000000000, 1996-02-15T00:...</td>\n",
              "    </tr>\n",
              "    <tr>\n",
              "      <th>9</th>\n",
              "      <td>shipVia</td>\n",
              "      <td>object</td>\n",
              "      <td>2082</td>\n",
              "      <td>0</td>\n",
              "      <td>0.0</td>\n",
              "      <td>3</td>\n",
              "      <td>[Federal Shipping, Speedy Express]</td>\n",
              "    </tr>\n",
              "    <tr>\n",
              "      <th>10</th>\n",
              "      <td>ShipCity</td>\n",
              "      <td>object</td>\n",
              "      <td>2082</td>\n",
              "      <td>0</td>\n",
              "      <td>0.0</td>\n",
              "      <td>70</td>\n",
              "      <td>[Marseille, Helsinki]</td>\n",
              "    </tr>\n",
              "    <tr>\n",
              "      <th>11</th>\n",
              "      <td>ShipCountry</td>\n",
              "      <td>object</td>\n",
              "      <td>2082</td>\n",
              "      <td>0</td>\n",
              "      <td>0.0</td>\n",
              "      <td>21</td>\n",
              "      <td>[Germany, France]</td>\n",
              "    </tr>\n",
              "    <tr>\n",
              "      <th>12</th>\n",
              "      <td>Quantity</td>\n",
              "      <td>float64</td>\n",
              "      <td>2082</td>\n",
              "      <td>0</td>\n",
              "      <td>0.0</td>\n",
              "      <td>54</td>\n",
              "      <td>[13.0, 33.0]</td>\n",
              "    </tr>\n",
              "    <tr>\n",
              "      <th>13</th>\n",
              "      <td>UnitPrice</td>\n",
              "      <td>float64</td>\n",
              "      <td>2082</td>\n",
              "      <td>0</td>\n",
              "      <td>0.0</td>\n",
              "      <td>116</td>\n",
              "      <td>[14.7, 7.6]</td>\n",
              "    </tr>\n",
              "    <tr>\n",
              "      <th>14</th>\n",
              "      <td>Discount</td>\n",
              "      <td>float64</td>\n",
              "      <td>2082</td>\n",
              "      <td>0</td>\n",
              "      <td>0.0</td>\n",
              "      <td>6</td>\n",
              "      <td>[0.15, 0.1]</td>\n",
              "    </tr>\n",
              "    <tr>\n",
              "      <th>15</th>\n",
              "      <td>ProductName</td>\n",
              "      <td>object</td>\n",
              "      <td>2082</td>\n",
              "      <td>0</td>\n",
              "      <td>0.0</td>\n",
              "      <td>77</td>\n",
              "      <td>[Gorgonzola Telino, Original Frankfurter gr├╝n...</td>\n",
              "    </tr>\n",
              "    <tr>\n",
              "      <th>16</th>\n",
              "      <td>ProcessingDate</td>\n",
              "      <td>timedelta64[ns]</td>\n",
              "      <td>2082</td>\n",
              "      <td>0</td>\n",
              "      <td>0.0</td>\n",
              "      <td>35</td>\n",
              "      <td>[864000000000000 nanoseconds, 2073600000000000...</td>\n",
              "    </tr>\n",
              "    <tr>\n",
              "      <th>17</th>\n",
              "      <td>OnTimeShipped</td>\n",
              "      <td>bool</td>\n",
              "      <td>2082</td>\n",
              "      <td>0</td>\n",
              "      <td>0.0</td>\n",
              "      <td>2</td>\n",
              "      <td>[True, False]</td>\n",
              "    </tr>\n",
              "    <tr>\n",
              "      <th>18</th>\n",
              "      <td>Income</td>\n",
              "      <td>float64</td>\n",
              "      <td>2082</td>\n",
              "      <td>0</td>\n",
              "      <td>0.0</td>\n",
              "      <td>1131</td>\n",
              "      <td>[1168.75, 1008.0]</td>\n",
              "    </tr>\n",
              "  </tbody>\n",
              "</table>\n",
              "</div>"
            ],
            "text/plain": [
              "       Column Name        Data Type  Data Count  Missing Value  \\\n",
              "0       CustomerID           object        2082              0   \n",
              "1      CompanyName           object        2082              0   \n",
              "2     ContactTitle           object        2082              0   \n",
              "3             City           object        2082              0   \n",
              "4          Country           object        2082              0   \n",
              "5          orderID            int16        2082              0   \n",
              "6        OrderDate   datetime64[ns]        2082              0   \n",
              "7     RequiredDate   datetime64[ns]        2082              0   \n",
              "8      ShippedDate   datetime64[ns]        2082              0   \n",
              "9          shipVia           object        2082              0   \n",
              "10        ShipCity           object        2082              0   \n",
              "11     ShipCountry           object        2082              0   \n",
              "12        Quantity          float64        2082              0   \n",
              "13       UnitPrice          float64        2082              0   \n",
              "14        Discount          float64        2082              0   \n",
              "15     ProductName           object        2082              0   \n",
              "16  ProcessingDate  timedelta64[ns]        2082              0   \n",
              "17   OnTimeShipped             bool        2082              0   \n",
              "18          Income          float64        2082              0   \n",
              "\n",
              "    Missing Value Percentage  Number of Unique  \\\n",
              "0                        0.0                89   \n",
              "1                        0.0                89   \n",
              "2                        0.0                12   \n",
              "3                        0.0                69   \n",
              "4                        0.0                21   \n",
              "5                        0.0               809   \n",
              "6                        0.0               478   \n",
              "7                        0.0               450   \n",
              "8                        0.0               387   \n",
              "9                        0.0                 3   \n",
              "10                       0.0                70   \n",
              "11                       0.0                21   \n",
              "12                       0.0                54   \n",
              "13                       0.0               116   \n",
              "14                       0.0                 6   \n",
              "15                       0.0                77   \n",
              "16                       0.0                35   \n",
              "17                       0.0                 2   \n",
              "18                       0.0              1131   \n",
              "\n",
              "                                        Unique Sample  \n",
              "0                                      [LETSS, SUPRD]  \n",
              "1                  [Supr├¬mes d├®lices, Que Del├¡cia]  \n",
              "2   [Order Administrator, Assistant Sales Represen...  \n",
              "3                                    [Reims, Caracas]  \n",
              "4                                   [France, Germany]  \n",
              "5                                      [11034, 11041]  \n",
              "6   [1995-02-28T00:00:00.000000000, 1995-10-12T00:...  \n",
              "7   [1994-09-08T00:00:00.000000000, 1996-04-26T00:...  \n",
              "8   [1995-05-26T00:00:00.000000000, 1996-02-15T00:...  \n",
              "9                  [Federal Shipping, Speedy Express]  \n",
              "10                              [Marseille, Helsinki]  \n",
              "11                                  [Germany, France]  \n",
              "12                                       [13.0, 33.0]  \n",
              "13                                        [14.7, 7.6]  \n",
              "14                                        [0.15, 0.1]  \n",
              "15  [Gorgonzola Telino, Original Frankfurter gr├╝n...  \n",
              "16  [864000000000000 nanoseconds, 2073600000000000...  \n",
              "17                                      [True, False]  \n",
              "18                                  [1168.75, 1008.0]  "
            ]
          },
          "execution_count": 22,
          "metadata": {},
          "output_type": "execute_result"
        }
      ],
      "source": [
        "# Check Some Info\n",
        "\n",
        "listItem = []\n",
        "for col in tabel1.columns :\n",
        "    listItem.append([col, tabel1[col].dtype, len(tabel1),tabel1[col].isna().sum(), round((tabel1[col].isna().sum()/len(tabel1[col])) * 100,2),\n",
        "                    tabel1[col].nunique(), list(tabel1[col].drop_duplicates().sample(2).values)])\n",
        "\n",
        "tabel1Desc = pd.DataFrame(columns=['Column Name', 'Data Type', 'Data Count', 'Missing Value', \n",
        "    'Missing Value Percentage', 'Number of Unique', 'Unique Sample'],\n",
        "                     data=listItem)\n",
        "tabel1Desc"
      ]
    },
    {
      "cell_type": "markdown",
      "metadata": {
        "id": "ijsGGmmRDSrf"
      },
      "source": [
        "## **On Time Shipped berdasarkan jenis jasa pengiriman**\n",
        "\n",
        "**```Jasa Pengiriman apakah yang memiliki tingkat keterlambatan tertinggi dalam proses pengiriman produk?```**"
      ]
    },
    {
      "cell_type": "code",
      "execution_count": 23,
      "metadata": {
        "id": "toYojb-qDSrf",
        "outputId": "550af575-8126-493d-debd-3f7d9d2a2974"
      },
      "outputs": [
        {
          "data": {
            "text/html": [
              "<div>\n",
              "<style scoped>\n",
              "    .dataframe tbody tr th:only-of-type {\n",
              "        vertical-align: middle;\n",
              "    }\n",
              "\n",
              "    .dataframe tbody tr th {\n",
              "        vertical-align: top;\n",
              "    }\n",
              "\n",
              "    .dataframe thead th {\n",
              "        text-align: right;\n",
              "    }\n",
              "</style>\n",
              "<table border=\"1\" class=\"dataframe\">\n",
              "  <thead>\n",
              "    <tr style=\"text-align: right;\">\n",
              "      <th></th>\n",
              "      <th>OnTimeShipped</th>\n",
              "    </tr>\n",
              "    <tr>\n",
              "      <th>shipVia</th>\n",
              "      <th></th>\n",
              "    </tr>\n",
              "  </thead>\n",
              "  <tbody>\n",
              "    <tr>\n",
              "      <th>Federal Shipping</th>\n",
              "      <td>96.056782</td>\n",
              "    </tr>\n",
              "    <tr>\n",
              "      <th>Speedy Express</th>\n",
              "      <td>95.125786</td>\n",
              "    </tr>\n",
              "    <tr>\n",
              "      <th>United Package</th>\n",
              "      <td>95.566502</td>\n",
              "    </tr>\n",
              "  </tbody>\n",
              "</table>\n",
              "</div>"
            ],
            "text/plain": [
              "                  OnTimeShipped\n",
              "shipVia                        \n",
              "Federal Shipping      96.056782\n",
              "Speedy Express        95.125786\n",
              "United Package        95.566502"
            ]
          },
          "execution_count": 23,
          "metadata": {},
          "output_type": "execute_result"
        }
      ],
      "source": [
        "# Groupping and Aggregating\n",
        "\n",
        "tabel1[['shipVia','OnTimeShipped']].groupby('shipVia').mean()*100"
      ]
    },
    {
      "cell_type": "markdown",
      "metadata": {
        "id": "h3eUtDVKDSrf"
      },
      "source": [
        "Berdasarkan data di atas, dapat diketahui bahwa jasa pengiriman yang paling sering melakukan keterlambatan adalah Speedy Express."
      ]
    },
    {
      "cell_type": "markdown",
      "metadata": {},
      "source": [
        "## **Income berdasarkan perusahaan**\n",
        "\n",
        "**```Perusahaan manakah yang melakukan pembelian dengan jumlah pembayaran terbanyak?```**"
      ]
    },
    {
      "cell_type": "code",
      "execution_count": 24,
      "metadata": {},
      "outputs": [
        {
          "data": {
            "text/html": [
              "<div>\n",
              "<style scoped>\n",
              "    .dataframe tbody tr th:only-of-type {\n",
              "        vertical-align: middle;\n",
              "    }\n",
              "\n",
              "    .dataframe tbody tr th {\n",
              "        vertical-align: top;\n",
              "    }\n",
              "\n",
              "    .dataframe thead th {\n",
              "        text-align: right;\n",
              "    }\n",
              "</style>\n",
              "<table border=\"1\" class=\"dataframe\">\n",
              "  <thead>\n",
              "    <tr style=\"text-align: right;\">\n",
              "      <th></th>\n",
              "      <th>Income</th>\n",
              "    </tr>\n",
              "    <tr>\n",
              "      <th>CompanyName</th>\n",
              "      <th></th>\n",
              "    </tr>\n",
              "  </thead>\n",
              "  <tbody>\n",
              "    <tr>\n",
              "      <th>QUICK-Stop</th>\n",
              "      <td>110277.3050</td>\n",
              "    </tr>\n",
              "    <tr>\n",
              "      <th>Save-a-lot Markets</th>\n",
              "      <td>104361.9500</td>\n",
              "    </tr>\n",
              "    <tr>\n",
              "      <th>Ernst Handel</th>\n",
              "      <td>94976.0785</td>\n",
              "    </tr>\n",
              "    <tr>\n",
              "      <th>Hungry Owl All-Night Grocers</th>\n",
              "      <td>49979.9050</td>\n",
              "    </tr>\n",
              "    <tr>\n",
              "      <th>Rattlesnake Canyon Grocery</th>\n",
              "      <td>49842.0800</td>\n",
              "    </tr>\n",
              "    <tr>\n",
              "      <th>...</th>\n",
              "      <td>...</td>\n",
              "    </tr>\n",
              "    <tr>\n",
              "      <th>Galer├¡a del gastr├│nomo</th>\n",
              "      <td>836.7000</td>\n",
              "    </tr>\n",
              "    <tr>\n",
              "      <th>North/South</th>\n",
              "      <td>649.0000</td>\n",
              "    </tr>\n",
              "    <tr>\n",
              "      <th>Laughing Bacchus Wine Cellars</th>\n",
              "      <td>522.5000</td>\n",
              "    </tr>\n",
              "    <tr>\n",
              "      <th>Lazy K Kountry Store</th>\n",
              "      <td>357.0000</td>\n",
              "    </tr>\n",
              "    <tr>\n",
              "      <th>Centro comercial Moctezuma</th>\n",
              "      <td>100.8000</td>\n",
              "    </tr>\n",
              "  </tbody>\n",
              "</table>\n",
              "<p>89 rows × 1 columns</p>\n",
              "</div>"
            ],
            "text/plain": [
              "                                    Income\n",
              "CompanyName                               \n",
              "QUICK-Stop                     110277.3050\n",
              "Save-a-lot Markets             104361.9500\n",
              "Ernst Handel                    94976.0785\n",
              "Hungry Owl All-Night Grocers    49979.9050\n",
              "Rattlesnake Canyon Grocery      49842.0800\n",
              "...                                    ...\n",
              "Galer├¡a del gastr├│nomo          836.7000\n",
              "North/South                       649.0000\n",
              "Laughing Bacchus Wine Cellars     522.5000\n",
              "Lazy K Kountry Store              357.0000\n",
              "Centro comercial Moctezuma        100.8000\n",
              "\n",
              "[89 rows x 1 columns]"
            ]
          },
          "execution_count": 24,
          "metadata": {},
          "output_type": "execute_result"
        }
      ],
      "source": [
        "# Groupping and Aggregating\n",
        "\n",
        "tabel1[['CompanyName','Income']].groupby('CompanyName').sum().sort_values('Income', ascending = False)"
      ]
    },
    {
      "cell_type": "markdown",
      "metadata": {},
      "source": [
        "Berdasarkan data di atas, didapatkan bahwa 5 perusahaan yang melakukan pembelian dengan jumlah pembayaran terbanyak adalah QUICK-Stop, Save-a-lot Markets, Ernst Handel, Hungry Owl All-Night Grocers, dan Rattlesnake Canyon Grocery."
      ]
    },
    {
      "cell_type": "markdown",
      "metadata": {
        "id": "6FKEzz2ZDSrg"
      },
      "source": [
        "# **DATA VISUALIZATION & STATISTICS**"
      ]
    },
    {
      "cell_type": "markdown",
      "metadata": {
        "id": "7cezAYaVDSrg"
      },
      "source": [
        "## **Top 5 Loyal Costumer**"
      ]
    },
    {
      "cell_type": "markdown",
      "metadata": {
        "id": "kEGjNw29DSrg"
      },
      "source": [
        "Setelah mendapatkan data yang sudah 'bersih' dan siap untuk digunakan, pada tahap ini akan dilakukan visualisasi data untuk mendapatkan beberapa insight yang kemudian dapat menjadi landasan dalam pengambilan keputusan dan penyusunan strategi yang kuat."
      ]
    },
    {
      "cell_type": "code",
      "execution_count": 25,
      "metadata": {
        "id": "Lw9Af9rnDSrg"
      },
      "outputs": [],
      "source": [
        "import plotly.express as px\n",
        "import matplotlib.pyplot as plt\n",
        "import seaborn as sns"
      ]
    },
    {
      "cell_type": "markdown",
      "metadata": {},
      "source": [
        "**```Dari penjualan yang telah dilakukan, apakah terdapat pelanggan yang loyal?```**"
      ]
    },
    {
      "cell_type": "code",
      "execution_count": 26,
      "metadata": {
        "id": "j-ejijYyDSrg",
        "outputId": "43f0eb63-d4a5-4104-fada-5f88522f118e"
      },
      "outputs": [
        {
          "data": {
            "application/vnd.plotly.v1+json": {
              "config": {
                "plotlyServerURL": "https://plot.ly"
              },
              "data": [
                {
                  "alignmentgroup": "True",
                  "hovertemplate": "variable=CompanyName<br>index=%{x}<br>value=%{y}<extra></extra>",
                  "legendgroup": "CompanyName",
                  "marker": {
                    "color": "#636efa",
                    "pattern": {
                      "shape": ""
                    }
                  },
                  "name": "CompanyName",
                  "offsetgroup": "CompanyName",
                  "orientation": "v",
                  "showlegend": true,
                  "textposition": "auto",
                  "type": "bar",
                  "x": [
                    "Save-a-lot Markets",
                    "Ernst Handel",
                    "QUICK-Stop",
                    "Hungry Owl All-Night Grocers",
                    "Berglunds snabbk├Âp"
                  ],
                  "xaxis": "x",
                  "y": [
                    116,
                    95,
                    86,
                    55,
                    52
                  ],
                  "yaxis": "y"
                }
              ],
              "layout": {
                "barmode": "relative",
                "legend": {
                  "title": {
                    "text": "variable"
                  },
                  "tracegroupgap": 0
                },
                "template": {
                  "data": {
                    "bar": [
                      {
                        "error_x": {
                          "color": "#2a3f5f"
                        },
                        "error_y": {
                          "color": "#2a3f5f"
                        },
                        "marker": {
                          "line": {
                            "color": "#E5ECF6",
                            "width": 0.5
                          },
                          "pattern": {
                            "fillmode": "overlay",
                            "size": 10,
                            "solidity": 0.2
                          }
                        },
                        "type": "bar"
                      }
                    ],
                    "barpolar": [
                      {
                        "marker": {
                          "line": {
                            "color": "#E5ECF6",
                            "width": 0.5
                          },
                          "pattern": {
                            "fillmode": "overlay",
                            "size": 10,
                            "solidity": 0.2
                          }
                        },
                        "type": "barpolar"
                      }
                    ],
                    "carpet": [
                      {
                        "aaxis": {
                          "endlinecolor": "#2a3f5f",
                          "gridcolor": "white",
                          "linecolor": "white",
                          "minorgridcolor": "white",
                          "startlinecolor": "#2a3f5f"
                        },
                        "baxis": {
                          "endlinecolor": "#2a3f5f",
                          "gridcolor": "white",
                          "linecolor": "white",
                          "minorgridcolor": "white",
                          "startlinecolor": "#2a3f5f"
                        },
                        "type": "carpet"
                      }
                    ],
                    "choropleth": [
                      {
                        "colorbar": {
                          "outlinewidth": 0,
                          "ticks": ""
                        },
                        "type": "choropleth"
                      }
                    ],
                    "contour": [
                      {
                        "colorbar": {
                          "outlinewidth": 0,
                          "ticks": ""
                        },
                        "colorscale": [
                          [
                            0,
                            "#0d0887"
                          ],
                          [
                            0.1111111111111111,
                            "#46039f"
                          ],
                          [
                            0.2222222222222222,
                            "#7201a8"
                          ],
                          [
                            0.3333333333333333,
                            "#9c179e"
                          ],
                          [
                            0.4444444444444444,
                            "#bd3786"
                          ],
                          [
                            0.5555555555555556,
                            "#d8576b"
                          ],
                          [
                            0.6666666666666666,
                            "#ed7953"
                          ],
                          [
                            0.7777777777777778,
                            "#fb9f3a"
                          ],
                          [
                            0.8888888888888888,
                            "#fdca26"
                          ],
                          [
                            1,
                            "#f0f921"
                          ]
                        ],
                        "type": "contour"
                      }
                    ],
                    "contourcarpet": [
                      {
                        "colorbar": {
                          "outlinewidth": 0,
                          "ticks": ""
                        },
                        "type": "contourcarpet"
                      }
                    ],
                    "heatmap": [
                      {
                        "colorbar": {
                          "outlinewidth": 0,
                          "ticks": ""
                        },
                        "colorscale": [
                          [
                            0,
                            "#0d0887"
                          ],
                          [
                            0.1111111111111111,
                            "#46039f"
                          ],
                          [
                            0.2222222222222222,
                            "#7201a8"
                          ],
                          [
                            0.3333333333333333,
                            "#9c179e"
                          ],
                          [
                            0.4444444444444444,
                            "#bd3786"
                          ],
                          [
                            0.5555555555555556,
                            "#d8576b"
                          ],
                          [
                            0.6666666666666666,
                            "#ed7953"
                          ],
                          [
                            0.7777777777777778,
                            "#fb9f3a"
                          ],
                          [
                            0.8888888888888888,
                            "#fdca26"
                          ],
                          [
                            1,
                            "#f0f921"
                          ]
                        ],
                        "type": "heatmap"
                      }
                    ],
                    "heatmapgl": [
                      {
                        "colorbar": {
                          "outlinewidth": 0,
                          "ticks": ""
                        },
                        "colorscale": [
                          [
                            0,
                            "#0d0887"
                          ],
                          [
                            0.1111111111111111,
                            "#46039f"
                          ],
                          [
                            0.2222222222222222,
                            "#7201a8"
                          ],
                          [
                            0.3333333333333333,
                            "#9c179e"
                          ],
                          [
                            0.4444444444444444,
                            "#bd3786"
                          ],
                          [
                            0.5555555555555556,
                            "#d8576b"
                          ],
                          [
                            0.6666666666666666,
                            "#ed7953"
                          ],
                          [
                            0.7777777777777778,
                            "#fb9f3a"
                          ],
                          [
                            0.8888888888888888,
                            "#fdca26"
                          ],
                          [
                            1,
                            "#f0f921"
                          ]
                        ],
                        "type": "heatmapgl"
                      }
                    ],
                    "histogram": [
                      {
                        "marker": {
                          "pattern": {
                            "fillmode": "overlay",
                            "size": 10,
                            "solidity": 0.2
                          }
                        },
                        "type": "histogram"
                      }
                    ],
                    "histogram2d": [
                      {
                        "colorbar": {
                          "outlinewidth": 0,
                          "ticks": ""
                        },
                        "colorscale": [
                          [
                            0,
                            "#0d0887"
                          ],
                          [
                            0.1111111111111111,
                            "#46039f"
                          ],
                          [
                            0.2222222222222222,
                            "#7201a8"
                          ],
                          [
                            0.3333333333333333,
                            "#9c179e"
                          ],
                          [
                            0.4444444444444444,
                            "#bd3786"
                          ],
                          [
                            0.5555555555555556,
                            "#d8576b"
                          ],
                          [
                            0.6666666666666666,
                            "#ed7953"
                          ],
                          [
                            0.7777777777777778,
                            "#fb9f3a"
                          ],
                          [
                            0.8888888888888888,
                            "#fdca26"
                          ],
                          [
                            1,
                            "#f0f921"
                          ]
                        ],
                        "type": "histogram2d"
                      }
                    ],
                    "histogram2dcontour": [
                      {
                        "colorbar": {
                          "outlinewidth": 0,
                          "ticks": ""
                        },
                        "colorscale": [
                          [
                            0,
                            "#0d0887"
                          ],
                          [
                            0.1111111111111111,
                            "#46039f"
                          ],
                          [
                            0.2222222222222222,
                            "#7201a8"
                          ],
                          [
                            0.3333333333333333,
                            "#9c179e"
                          ],
                          [
                            0.4444444444444444,
                            "#bd3786"
                          ],
                          [
                            0.5555555555555556,
                            "#d8576b"
                          ],
                          [
                            0.6666666666666666,
                            "#ed7953"
                          ],
                          [
                            0.7777777777777778,
                            "#fb9f3a"
                          ],
                          [
                            0.8888888888888888,
                            "#fdca26"
                          ],
                          [
                            1,
                            "#f0f921"
                          ]
                        ],
                        "type": "histogram2dcontour"
                      }
                    ],
                    "mesh3d": [
                      {
                        "colorbar": {
                          "outlinewidth": 0,
                          "ticks": ""
                        },
                        "type": "mesh3d"
                      }
                    ],
                    "parcoords": [
                      {
                        "line": {
                          "colorbar": {
                            "outlinewidth": 0,
                            "ticks": ""
                          }
                        },
                        "type": "parcoords"
                      }
                    ],
                    "pie": [
                      {
                        "automargin": true,
                        "type": "pie"
                      }
                    ],
                    "scatter": [
                      {
                        "marker": {
                          "colorbar": {
                            "outlinewidth": 0,
                            "ticks": ""
                          }
                        },
                        "type": "scatter"
                      }
                    ],
                    "scatter3d": [
                      {
                        "line": {
                          "colorbar": {
                            "outlinewidth": 0,
                            "ticks": ""
                          }
                        },
                        "marker": {
                          "colorbar": {
                            "outlinewidth": 0,
                            "ticks": ""
                          }
                        },
                        "type": "scatter3d"
                      }
                    ],
                    "scattercarpet": [
                      {
                        "marker": {
                          "colorbar": {
                            "outlinewidth": 0,
                            "ticks": ""
                          }
                        },
                        "type": "scattercarpet"
                      }
                    ],
                    "scattergeo": [
                      {
                        "marker": {
                          "colorbar": {
                            "outlinewidth": 0,
                            "ticks": ""
                          }
                        },
                        "type": "scattergeo"
                      }
                    ],
                    "scattergl": [
                      {
                        "marker": {
                          "colorbar": {
                            "outlinewidth": 0,
                            "ticks": ""
                          }
                        },
                        "type": "scattergl"
                      }
                    ],
                    "scattermapbox": [
                      {
                        "marker": {
                          "colorbar": {
                            "outlinewidth": 0,
                            "ticks": ""
                          }
                        },
                        "type": "scattermapbox"
                      }
                    ],
                    "scatterpolar": [
                      {
                        "marker": {
                          "colorbar": {
                            "outlinewidth": 0,
                            "ticks": ""
                          }
                        },
                        "type": "scatterpolar"
                      }
                    ],
                    "scatterpolargl": [
                      {
                        "marker": {
                          "colorbar": {
                            "outlinewidth": 0,
                            "ticks": ""
                          }
                        },
                        "type": "scatterpolargl"
                      }
                    ],
                    "scatterternary": [
                      {
                        "marker": {
                          "colorbar": {
                            "outlinewidth": 0,
                            "ticks": ""
                          }
                        },
                        "type": "scatterternary"
                      }
                    ],
                    "surface": [
                      {
                        "colorbar": {
                          "outlinewidth": 0,
                          "ticks": ""
                        },
                        "colorscale": [
                          [
                            0,
                            "#0d0887"
                          ],
                          [
                            0.1111111111111111,
                            "#46039f"
                          ],
                          [
                            0.2222222222222222,
                            "#7201a8"
                          ],
                          [
                            0.3333333333333333,
                            "#9c179e"
                          ],
                          [
                            0.4444444444444444,
                            "#bd3786"
                          ],
                          [
                            0.5555555555555556,
                            "#d8576b"
                          ],
                          [
                            0.6666666666666666,
                            "#ed7953"
                          ],
                          [
                            0.7777777777777778,
                            "#fb9f3a"
                          ],
                          [
                            0.8888888888888888,
                            "#fdca26"
                          ],
                          [
                            1,
                            "#f0f921"
                          ]
                        ],
                        "type": "surface"
                      }
                    ],
                    "table": [
                      {
                        "cells": {
                          "fill": {
                            "color": "#EBF0F8"
                          },
                          "line": {
                            "color": "white"
                          }
                        },
                        "header": {
                          "fill": {
                            "color": "#C8D4E3"
                          },
                          "line": {
                            "color": "white"
                          }
                        },
                        "type": "table"
                      }
                    ]
                  },
                  "layout": {
                    "annotationdefaults": {
                      "arrowcolor": "#2a3f5f",
                      "arrowhead": 0,
                      "arrowwidth": 1
                    },
                    "autotypenumbers": "strict",
                    "coloraxis": {
                      "colorbar": {
                        "outlinewidth": 0,
                        "ticks": ""
                      }
                    },
                    "colorscale": {
                      "diverging": [
                        [
                          0,
                          "#8e0152"
                        ],
                        [
                          0.1,
                          "#c51b7d"
                        ],
                        [
                          0.2,
                          "#de77ae"
                        ],
                        [
                          0.3,
                          "#f1b6da"
                        ],
                        [
                          0.4,
                          "#fde0ef"
                        ],
                        [
                          0.5,
                          "#f7f7f7"
                        ],
                        [
                          0.6,
                          "#e6f5d0"
                        ],
                        [
                          0.7,
                          "#b8e186"
                        ],
                        [
                          0.8,
                          "#7fbc41"
                        ],
                        [
                          0.9,
                          "#4d9221"
                        ],
                        [
                          1,
                          "#276419"
                        ]
                      ],
                      "sequential": [
                        [
                          0,
                          "#0d0887"
                        ],
                        [
                          0.1111111111111111,
                          "#46039f"
                        ],
                        [
                          0.2222222222222222,
                          "#7201a8"
                        ],
                        [
                          0.3333333333333333,
                          "#9c179e"
                        ],
                        [
                          0.4444444444444444,
                          "#bd3786"
                        ],
                        [
                          0.5555555555555556,
                          "#d8576b"
                        ],
                        [
                          0.6666666666666666,
                          "#ed7953"
                        ],
                        [
                          0.7777777777777778,
                          "#fb9f3a"
                        ],
                        [
                          0.8888888888888888,
                          "#fdca26"
                        ],
                        [
                          1,
                          "#f0f921"
                        ]
                      ],
                      "sequentialminus": [
                        [
                          0,
                          "#0d0887"
                        ],
                        [
                          0.1111111111111111,
                          "#46039f"
                        ],
                        [
                          0.2222222222222222,
                          "#7201a8"
                        ],
                        [
                          0.3333333333333333,
                          "#9c179e"
                        ],
                        [
                          0.4444444444444444,
                          "#bd3786"
                        ],
                        [
                          0.5555555555555556,
                          "#d8576b"
                        ],
                        [
                          0.6666666666666666,
                          "#ed7953"
                        ],
                        [
                          0.7777777777777778,
                          "#fb9f3a"
                        ],
                        [
                          0.8888888888888888,
                          "#fdca26"
                        ],
                        [
                          1,
                          "#f0f921"
                        ]
                      ]
                    },
                    "colorway": [
                      "#636efa",
                      "#EF553B",
                      "#00cc96",
                      "#ab63fa",
                      "#FFA15A",
                      "#19d3f3",
                      "#FF6692",
                      "#B6E880",
                      "#FF97FF",
                      "#FECB52"
                    ],
                    "font": {
                      "color": "#2a3f5f"
                    },
                    "geo": {
                      "bgcolor": "white",
                      "lakecolor": "white",
                      "landcolor": "#E5ECF6",
                      "showlakes": true,
                      "showland": true,
                      "subunitcolor": "white"
                    },
                    "hoverlabel": {
                      "align": "left"
                    },
                    "hovermode": "closest",
                    "mapbox": {
                      "style": "light"
                    },
                    "paper_bgcolor": "white",
                    "plot_bgcolor": "#E5ECF6",
                    "polar": {
                      "angularaxis": {
                        "gridcolor": "white",
                        "linecolor": "white",
                        "ticks": ""
                      },
                      "bgcolor": "#E5ECF6",
                      "radialaxis": {
                        "gridcolor": "white",
                        "linecolor": "white",
                        "ticks": ""
                      }
                    },
                    "scene": {
                      "xaxis": {
                        "backgroundcolor": "#E5ECF6",
                        "gridcolor": "white",
                        "gridwidth": 2,
                        "linecolor": "white",
                        "showbackground": true,
                        "ticks": "",
                        "zerolinecolor": "white"
                      },
                      "yaxis": {
                        "backgroundcolor": "#E5ECF6",
                        "gridcolor": "white",
                        "gridwidth": 2,
                        "linecolor": "white",
                        "showbackground": true,
                        "ticks": "",
                        "zerolinecolor": "white"
                      },
                      "zaxis": {
                        "backgroundcolor": "#E5ECF6",
                        "gridcolor": "white",
                        "gridwidth": 2,
                        "linecolor": "white",
                        "showbackground": true,
                        "ticks": "",
                        "zerolinecolor": "white"
                      }
                    },
                    "shapedefaults": {
                      "line": {
                        "color": "#2a3f5f"
                      }
                    },
                    "ternary": {
                      "aaxis": {
                        "gridcolor": "white",
                        "linecolor": "white",
                        "ticks": ""
                      },
                      "baxis": {
                        "gridcolor": "white",
                        "linecolor": "white",
                        "ticks": ""
                      },
                      "bgcolor": "#E5ECF6",
                      "caxis": {
                        "gridcolor": "white",
                        "linecolor": "white",
                        "ticks": ""
                      }
                    },
                    "title": {
                      "x": 0.05
                    },
                    "xaxis": {
                      "automargin": true,
                      "gridcolor": "white",
                      "linecolor": "white",
                      "ticks": "",
                      "title": {
                        "standoff": 15
                      },
                      "zerolinecolor": "white",
                      "zerolinewidth": 2
                    },
                    "yaxis": {
                      "automargin": true,
                      "gridcolor": "white",
                      "linecolor": "white",
                      "ticks": "",
                      "title": {
                        "standoff": 15
                      },
                      "zerolinecolor": "white",
                      "zerolinewidth": 2
                    }
                  }
                },
                "title": {
                  "text": "Loyal Costumer"
                },
                "xaxis": {
                  "anchor": "y",
                  "domain": [
                    0,
                    1
                  ],
                  "title": {
                    "text": "index"
                  }
                },
                "yaxis": {
                  "anchor": "x",
                  "domain": [
                    0,
                    1
                  ],
                  "title": {
                    "text": "value"
                  }
                }
              }
            }
          },
          "metadata": {},
          "output_type": "display_data"
        }
      ],
      "source": [
        "fig = px.bar(tabel1['CompanyName'].value_counts().head(5),\n",
        "            title = 'Loyal Costumer')\n",
        "fig.show()"
      ]
    },
    {
      "cell_type": "markdown",
      "metadata": {
        "id": "0VFJB8LtDSrh"
      },
      "source": [
        "Berdasarkan 2082 transaksi yang telah terjadi, pembeli yang paling loyal jatuh kepada perusahaan 'save-a-lot Markets' dengan total pembelian sebanyak 116 transaksi yang diikuti oleh perusahaan 'Ernst Handel' dan 'QUICK-Stop'. Dengan menjadi top loyal customer, maka kedepannya pembentukan kerjasama dan penawaran produk-produk baru dapat dilakukan dengan memprioritaskan top loyal customer tersebut.\n",
        "\n",
        "Walaupun begitu, perusahaan lain selain dari top loyal customer ini tetap harus diperhatikan dengan tetap memberikan pelayanan yang terbaik sehingga perusahan-perusahaan tersebut tidak menghentikan transaksinya serta dengan harapan kedepannya dapat meningkatkan jumlah transaksi mereka."
      ]
    },
    {
      "cell_type": "markdown",
      "metadata": {
        "id": "GvimFrp3DSrh"
      },
      "source": [
        "## **Negara Pemesan Produk Makanan Terbanyak**\n",
        "\n",
        "**```Bagaimana distribusi transaksi berdasarkan negara? Negara manakah yang memiliki jumlah transaksi yang tertinggi?```**"
      ]
    },
    {
      "cell_type": "code",
      "execution_count": 27,
      "metadata": {
        "id": "3fz_aCFyDSrh",
        "outputId": "18e586bd-b458-4bde-c683-ebc78e8634e2"
      },
      "outputs": [
        {
          "name": "stderr",
          "output_type": "stream",
          "text": [
            "C:\\Users\\Filadelfia-PC\\AppData\\Local\\Programs\\Python\\Python310\\lib\\site-packages\\seaborn\\_decorators.py:36: FutureWarning:\n",
            "\n",
            "Pass the following variable as a keyword arg: x. From version 0.12, the only valid positional argument will be `data`, and passing other arguments without an explicit keyword will result in an error or misinterpretation.\n",
            "\n"
          ]
        },
        {
          "data": {
            "image/png": "[encoded data removed]",
            "text/plain": [
              "<Figure size 1440x720 with 1 Axes>"
            ]
          },
          "metadata": {
            "needs_background": "light"
          },
          "output_type": "display_data"
        }
      ],
      "source": [
        "plt.figure(figsize=(20,10))\n",
        "sns.countplot(tabel1['Country'],\n",
        "            order = tabel1['Country'].value_counts().index)\n",
        "plt.xlabel('Negara', size = 20)\n",
        "plt.ylabel('Jumlah Transaksi', size = 20)\n",
        "plt.title ('Negara Dengan Jumlah Transaksi Tertinggi', size = 30)\n",
        "plt.show()"
      ]
    },
    {
      "cell_type": "markdown",
      "metadata": {
        "id": "cGqE1Fo9DSrh"
      },
      "source": [
        "Berdasarkan data dari grafik di atas, terlihat jelas bahwa USA atau Amerika Serikat dan Jerman memiliki perbedaan jumlah pesanan yang tidak berbeda jauh dan menjadi dua negara yang memiliki jumlah pesanan yang tertinggi melebihi negara-negara lainnya. Oleh karena itu, potensi penjualan pada kedua negara ini harus digunakan untuk terus semakin meningkatkan penjualan yang ada.\n",
        "\n",
        "Selain itu, negara Brazil dan Prancis menduduki posisi ketiga dan keempat sebagai negara dengan jumlah transaksi terbanyak. Walaupun jumlah transaksi mereka tidak sebanyak USA dan Jerman, kedua negara tersebut tetap memiliki potensi yang besar. Penelitian lebih lanjut untuk mencari tahu faktor-faktor yang mempengaruhi tingkat transaksi pada kedua negara ini serta peningkatan strategi marketing dapat dilakukan untuk meningkatkan tingkat transaksi pada kedua negara ini."
      ]
    },
    {
      "cell_type": "markdown",
      "metadata": {
        "id": "nbz6-qsWDSrh"
      },
      "source": [
        "## **Status Keterlambatan dalam Pengiriman Barang**\n",
        "\n",
        "**```Bagaimana Persentase status keterlambatan dalam pengiriman barang?```**"
      ]
    },
    {
      "cell_type": "code",
      "execution_count": 28,
      "metadata": {
        "id": "TCw7Ny2eDSrh",
        "outputId": "4b581a43-e1a8-437a-8710-a80d411eaecd"
      },
      "outputs": [
        {
          "data": {
            "image/png": "[encoded data removed]",
            "text/plain": [
              "<Figure size 720x720 with 1 Axes>"
            ]
          },
          "metadata": {},
          "output_type": "display_data"
        }
      ],
      "source": [
        "# Pie Chart Status\n",
        "\n",
        "plt.style.use('seaborn')\n",
        "plt.figure(figsize=(10,10))\n",
        "plt.pie(tabel1['OnTimeShipped'].value_counts().values, \n",
        "        autopct='%.2f%%')\n",
        "plt.title ('Persentase Status Pengiriman', size = 30)\n",
        "plt.legend(tabel1['OnTimeShipped'].unique())\n",
        "plt.show()"
      ]
    },
    {
      "cell_type": "markdown",
      "metadata": {
        "id": "Fa76konEDSri"
      },
      "source": [
        "Berdasarkan status keterlambatan, terdapat 4,42% dari total transaksi yang mengalami keterlambatan dalam proses pengiriman. Tentunya proses keterlambatan dalam pengiriman ini dapat mempengaruhi tingkat kepuasan dan kepercayaan customer terhadap layanan yang kita lakukan. Hal tersebut dapat berakibat buruk terhadap citra perusahaan. Oleh karena itu, perusahaan harus mempertimbangkan dalam pemilihan layanan pengiriman untuk menghindari keterlambatan dalam pengiriman barang."
      ]
    },
    {
      "cell_type": "markdown",
      "metadata": {
        "id": "gxMSZcTFDSri"
      },
      "source": [
        "## **Product Terlaris**\n",
        "\n",
        "**```Dari semua jenis produk yang dijual, jenis produk apa saja yang memiliki tingkat transaksi yang tinggi?```**"
      ]
    },
    {
      "cell_type": "code",
      "execution_count": 29,
      "metadata": {
        "id": "X-8uA97jDSri",
        "outputId": "bee106ac-c735-4139-b63a-e9461bcb78cc"
      },
      "outputs": [
        {
          "data": {
            "image/png": "[encoded data removed]",
            "text/plain": [
              "<Figure size 1440x1080 with 1 Axes>"
            ]
          },
          "metadata": {},
          "output_type": "display_data"
        }
      ],
      "source": [
        "# Product Line Quantities\n",
        "\n",
        "productQuanti = tabel1[['ProductName','Quantity']].groupby('ProductName').sum().sort_values('Quantity', ascending = False)\n",
        "x = productQuanti.index\n",
        "y = productQuanti['Quantity']\n",
        "\n",
        "plt.style.use('seaborn')\n",
        "plt.figure(figsize = (20,15))\n",
        "plt.barh(x,y, color = sns.color_palette('bright'))\n",
        "plt.title('Product Quantities Transaction', size = 30)\n",
        "plt.xlabel('Quantities', size = 25)\n",
        "plt.ylabel('Product', size = 25)\n",
        "plt.show()"
      ]
    },
    {
      "cell_type": "markdown",
      "metadata": {
        "id": "MMax6hq2DSri"
      },
      "source": [
        "Berdasarkan jenis produk, 5 produk yang memiliki tingkat order tertinggi adalah Camembert Pierrot, Raclette Courdavault, Gorgonzola Telino, Gnocchi di nonna Alice, dan Rh├Ânbr├ñu Klosterbier. Sementara 5 produk yang memiliki tingkat order terendah adalah Mishi Kobe Niku, Genen Shouyu, Gravad lax, Chocolade, dan Laughing Lumberjack Lager.\n",
        "\n",
        "Dari data di atas, perusahaan dapat mempertimbangkan untuk meningkatkan jumlah stock dari produk-produk dengan tingkat order yang tinggi dan mempertimbangkan untuk mengurangi atau memberhentikan penyediaan produk-produk dengan tingkat order yang rendah."
      ]
    },
    {
      "cell_type": "markdown",
      "metadata": {
        "id": "3DHrWPVuDSri"
      },
      "source": [
        "## **Income Penjualan Makanan**\n",
        "\n",
        "**```Bagaimana dengan pendapatan yang didapatkan dari penjualan? Apakah tingkat pendapatan mengalami kenaikan atau penurunan dari tahun ke tahun maupun bulan ke bulan?```**"
      ]
    },
    {
      "cell_type": "code",
      "execution_count": 30,
      "metadata": {
        "id": "3QhSIB-DDSri",
        "outputId": "839845d8-afa2-4936-b43e-1c540f67a7fa"
      },
      "outputs": [
        {
          "data": {
            "text/html": [
              "<div>\n",
              "<style scoped>\n",
              "    .dataframe tbody tr th:only-of-type {\n",
              "        vertical-align: middle;\n",
              "    }\n",
              "\n",
              "    .dataframe tbody tr th {\n",
              "        vertical-align: top;\n",
              "    }\n",
              "\n",
              "    .dataframe thead th {\n",
              "        text-align: right;\n",
              "    }\n",
              "</style>\n",
              "<table border=\"1\" class=\"dataframe\">\n",
              "  <thead>\n",
              "    <tr style=\"text-align: right;\">\n",
              "      <th></th>\n",
              "      <th>Quantity</th>\n",
              "      <th>Income</th>\n",
              "    </tr>\n",
              "    <tr>\n",
              "      <th>OrderDate</th>\n",
              "      <th></th>\n",
              "      <th></th>\n",
              "    </tr>\n",
              "  </thead>\n",
              "  <tbody>\n",
              "    <tr>\n",
              "      <th>1994</th>\n",
              "      <td>7381.0</td>\n",
              "      <td>162844.340</td>\n",
              "    </tr>\n",
              "    <tr>\n",
              "      <th>1995</th>\n",
              "      <td>25007.0</td>\n",
              "      <td>590926.405</td>\n",
              "    </tr>\n",
              "    <tr>\n",
              "      <th>1996</th>\n",
              "      <td>17731.0</td>\n",
              "      <td>486084.864</td>\n",
              "    </tr>\n",
              "  </tbody>\n",
              "</table>\n",
              "</div>"
            ],
            "text/plain": [
              "           Quantity      Income\n",
              "OrderDate                      \n",
              "1994         7381.0  162844.340\n",
              "1995        25007.0  590926.405\n",
              "1996        17731.0  486084.864"
            ]
          },
          "execution_count": 30,
          "metadata": {},
          "output_type": "execute_result"
        }
      ],
      "source": [
        "yearprof = tabel1[['OrderDate', 'Quantity' ,'Income']].groupby(pd.DatetimeIndex(tabel1['OrderDate']).year).sum()\n",
        "yearprof"
      ]
    },
    {
      "cell_type": "code",
      "execution_count": 31,
      "metadata": {
        "id": "zz7rUwpqDSri",
        "outputId": "10c1546b-7440-4ada-c57f-afa5a644f5d7"
      },
      "outputs": [
        {
          "data": {
            "image/png": "[encoded data removed]",
            "text/plain": [
              "<Figure size 1440x720 with 1 Axes>"
            ]
          },
          "metadata": {},
          "output_type": "display_data"
        }
      ],
      "source": [
        "# Line Plot Year By Year Profit\n",
        "\n",
        "plt.style.use('seaborn')\n",
        "plt.figure(figsize=(20,10))\n",
        "plt.plot(yearprof.index, yearprof['Income'], 'ro-')\n",
        "plt.title('Income 1994 - 1996 Penjualan Makanan', size = 20)\n",
        "plt.xlabel('Tahun', size = 18)\n",
        "plt.ylabel('Income', size = 18)\n",
        "plt.xticks(yearprof.index, rotation = 90, size = 12)\n",
        "plt.yticks(rotation = 45, size = 12)\n",
        "\n",
        "for x,y in zip(yearprof.index, round(yearprof['Income'],1)) :\n",
        "    plt.annotate(y,\n",
        "    (x,y),\n",
        "    textcoords = 'offset pixels',\n",
        "    xytext = (1,15))\n",
        "\n",
        "plt.show()"
      ]
    },
    {
      "cell_type": "markdown",
      "metadata": {
        "id": "pvs0-ma1DSrj"
      },
      "source": [
        "Berdasarkan grafik di atas, tingkat pendapatan mengalami peningkatan yang pesat dari tahun 1994 ke tahun 1995, yaitu dari 162.844 dollar meningkat hingga 590.926 dollar. Pada tahun 1996, tingkat pendapatan mengalami penurunan dari tahun sebelumnya. Meski begitu, kita tidak bisa langsung menarik kesimpulan bahwa tahun 1996 ini tidak berjalan dengan baik masalah penjualannya. Hal tersebut dikarenakan dari database yang dimiliki, tahun 1996 ini belum sepenuhnya selesai. Grafik di bawah akan menjelaskan bahwa tahun 1996 berakhir sampai bulan ke 6 saja. Artinya, masih ada 6 bulan pada tahun tersebut, di mana datanya masih belum tersedia.\n",
        "\n",
        "Rata-rata puncak profit juga diperoleh pada bulan ke-3, terutama pada tahun 1996. Kenaikan profit dari bulan ke-2 ke bulan ke-3 menjadi sangat signifikan. Bukan tidak mungkin, dengan trend positif seperti demikian, tahun 1996 dapat menghasilkan profit yang jauh lebih besar daripada sebelumnya."
      ]
    },
    {
      "cell_type": "code",
      "execution_count": 32,
      "metadata": {
        "id": "5vZxHniaDSrj",
        "outputId": "f1e6a36b-8f35-473b-8daf-44827c153599"
      },
      "outputs": [
        {
          "data": {
            "image/png": "[encoded data removed]",
            "text/plain": [
              "<Figure size 1440x720 with 1 Axes>"
            ]
          },
          "metadata": {},
          "output_type": "display_data"
        }
      ],
      "source": [
        "# Line Plot Profit Each Month\n",
        "\n",
        "plt.figure(figsize=(20,10))\n",
        "sns.lineplot(data=tabel1, x=pd.DatetimeIndex(tabel1['OrderDate']).month, y='Income', hue = pd.DatetimeIndex(tabel1['OrderDate']).year)\n",
        "plt.title('Perkembangan Pemasukan Setiap Bulan Tahun 1994 - 1996', size = 20)\n",
        "plt.xlabel('Bulan', size = 18)\n",
        "plt.ylabel('Income', size = 18)\n",
        "plt.xticks(pd.DatetimeIndex(tabel1['OrderDate']).month, size = 12)\n",
        "plt.yticks(rotation = 45, size = 12)\n",
        "plt.show()"
      ]
    },
    {
      "cell_type": "markdown",
      "metadata": {
        "id": "XuLKLduuDSrj"
      },
      "source": [
        "## **Perbedaan Pendapatan Tiap Perusahaan**\n",
        "\n",
        "**```Apakah terdapat perbedaan nilai pendapatan antar 10 top local customer yang ada?```**"
      ]
    },
    {
      "cell_type": "code",
      "execution_count": 33,
      "metadata": {
        "id": "fGPYHSyNDSrj",
        "outputId": "d7c60adf-2b50-4cdb-a4a5-397e5c6fc927"
      },
      "outputs": [
        {
          "name": "stdout",
          "output_type": "stream",
          "text": [
            "Tolak H0 Karena P-Value (0.0 < 0.05)\n",
            "DATA TIDAK BERDISTRIBUSI NORMAL\n"
          ]
        }
      ],
      "source": [
        "# Uji Normalitas Nilai Income \n",
        "\n",
        "from scipy.stats import shapiro\n",
        "\n",
        "norm, pval = shapiro(tabel1['Income'])\n",
        "\n",
        "if pval < 0.05 :\n",
        "    print (f'Tolak H0 Karena P-Value ({pval} < 0.05)')\n",
        "    print ('DATA TIDAK BERDISTRIBUSI NORMAL')\n",
        "else :\n",
        "    print (f'Gagal Tolak H0 Karena P-Value ({pval} > 0.05)')\n",
        "    print ('DATA BERDISTRIBUSI NORMAL')"
      ]
    },
    {
      "cell_type": "code",
      "execution_count": 34,
      "metadata": {
        "id": "KC237D1gDSrj",
        "outputId": "b535faf2-4e70-45d9-df2f-f9ef3a90c1f6"
      },
      "outputs": [
        {
          "name": "stdout",
          "output_type": "stream",
          "text": [
            "Tolak H0 Karena P-Value (0.0 < 5%)\n",
            "Terdapat Perbedaan Nilai Median Profit pada Setiap Product Yang Ada\n"
          ]
        }
      ],
      "source": [
        "# Uji Perbandingan Nilai Income Antar Setiap Perusahaan (Kruskal Wallis)\n",
        "\n",
        "from scipy.stats import kruskal\n",
        "\n",
        "krus, pvalkrus = kruskal(\n",
        "    tabel1[tabel1['CompanyName'] == 'Save-a-lot Markets']['Income'],\n",
        "    tabel1[tabel1['CompanyName'] == 'Ernst Handel']['Income'],\n",
        "    tabel1[tabel1['CompanyName'] == 'QUICK-Stop']['Income'],\n",
        "    tabel1[tabel1['CompanyName'] == 'Hungry Owl All-Night Grocers']['Income'],\n",
        "    tabel1[tabel1['CompanyName'] == 'Berglunds snabbk├Âp']['Income'],\n",
        "    tabel1[tabel1['CompanyName'] == 'Frankenversand']['Income'],\n",
        "    tabel1[tabel1['CompanyName'] == 'Rattlesnake Canyon Grocery']['Income'],\n",
        "    tabel1[tabel1['CompanyName'] == 'Folk och f├ñ HB']['Income'],\n",
        "    tabel1[tabel1['CompanyName'] == 'HILARI├ôN-Abastos']['Income'],\n",
        "    tabel1[tabel1['CompanyName'] == 'Bon app\\'']['Income']\n",
        ") \n",
        "\n",
        "if pvalkrus < 0.05 :\n",
        "    print (f'Tolak H0 Karena P-Value ({pval} < 5%)')\n",
        "    print ('Terdapat Perbedaan Nilai Median Profit pada Setiap Product Yang Ada')\n",
        "else :\n",
        "    print (f'Gagal Tolak H0 Karena P-Value ({pval} > 5%)')\n",
        "    print ('Tidak Terdapat Perbedaan Nilai Median Profit pada Setiap Product Yang Ada')"
      ]
    },
    {
      "cell_type": "markdown",
      "metadata": {
        "id": "j-OTzytsDSrj"
      },
      "source": [
        "## **Hubungan Pembelian dan Tingkat Pendapatan**\n",
        "\n",
        "**```Apakah terdapat hubungan antara 'Quantity', 'unitPrice', 'Discount', dan 'Income'? Jika ya, variabel mana yang paling mempengaruhi satu sama lain?```**"
      ]
    },
    {
      "cell_type": "code",
      "execution_count": 35,
      "metadata": {
        "id": "UQBzzsqcDSrk",
        "outputId": "48f32d06-a137-436e-d238-49d10348c9ba"
      },
      "outputs": [
        {
          "data": {
            "text/plain": [
              "<AxesSubplot:>"
            ]
          },
          "execution_count": 35,
          "metadata": {},
          "output_type": "execute_result"
        },
        {
          "data": {
            "image/png": "[encoded data removed]",
            "text/plain": [
              "<Figure size 720x720 with 2 Axes>"
            ]
          },
          "metadata": {},
          "output_type": "display_data"
        }
      ],
      "source": [
        "# Korelasi\n",
        "\n",
        "plt.figure(figsize=(10,10))\n",
        "sns.heatmap(tabel1[['Quantity','UnitPrice','Discount','Income']].corr('spearman'), annot=True)\n",
        "\t"
      ]
    },
    {
      "cell_type": "code",
      "execution_count": 36,
      "metadata": {
        "id": "56mQaUWnDSrk",
        "outputId": "c39a1144-79a9-485e-d6c8-7fb3aecc8ac9"
      },
      "outputs": [
        {
          "name": "stderr",
          "output_type": "stream",
          "text": [
            "C:\\Users\\Filadelfia-PC\\AppData\\Local\\Programs\\Python\\Python310\\lib\\site-packages\\seaborn\\_decorators.py:36: FutureWarning:\n",
            "\n",
            "Pass the following variables as keyword args: x, y. From version 0.12, the only valid positional argument will be `data`, and passing other arguments without an explicit keyword will result in an error or misinterpretation.\n",
            "\n"
          ]
        },
        {
          "data": {
            "text/plain": [
              "<AxesSubplot:xlabel='Quantity', ylabel='Income'>"
            ]
          },
          "execution_count": 36,
          "metadata": {},
          "output_type": "execute_result"
        },
        {
          "data": {
            "image/png": "[encoded data removed]",
            "text/plain": [
              "<Figure size 720x720 with 1 Axes>"
            ]
          },
          "metadata": {},
          "output_type": "display_data"
        }
      ],
      "source": [
        "# Korelasi Antara Quantity dan Income\n",
        "\n",
        "plt.figure(figsize=(10,10))\n",
        "sns.scatterplot(tabel1['Quantity'], tabel1['Income'])"
      ]
    }
  ],
  "metadata": {
    "colab": {
      "collapsed_sections": [
        "2OJybjUNDSrZ",
        "oNzD26-HDSra",
        "R5fAoJDNDSra",
        "7Woi1EUZDSrb",
        "blewve-SDSrc",
        "DYYKKPNJDSrc",
        "Ypv5VEYKDSrc",
        "KzgH6tt8DSrd",
        "Ii-AWsFzDSrd",
        "Vek3AI2QDSrd",
        "G5RpX96HDSre",
        "3XJ_sB01DSre",
        "Sc5EFW4YDSrf",
        "ijsGGmmRDSrf",
        "H3sx5xwnDSrf",
        "B1f3w31YDSrg",
        "7cezAYaVDSrg",
        "GvimFrp3DSrh",
        "nbz6-qsWDSrh",
        "gxMSZcTFDSri",
        "3DHrWPVuDSri",
        "XuLKLduuDSrj",
        "j-OTzytsDSrj"
      ],
      "name": "Contoh Capstone Project Modul 2.ipynb",
      "provenance": []
    },
    "interpreter": {
      "hash": "ddc3bb26a642cc4c8cc86559529a73031bc9ba85d2eea5acbe8194e0c6bb1fe6"
    },
    "kernelspec": {
      "display_name": "Python 3.9.6 64-bit",
      "language": "python",
      "name": "python3"
    },
    "language_info": {
      "codemirror_mode": {
        "name": "ipython",
        "version": 3
      },
      "file_extension": ".py",
      "mimetype": "text/x-python",
      "name": "python",
      "nbconvert_exporter": "python",
      "pygments_lexer": "ipython3",
      "version": "3.10.2"
    },
    "orig_nbformat": 4
  },
  "nbformat": 4,
  "nbformat_minor": 0
}
